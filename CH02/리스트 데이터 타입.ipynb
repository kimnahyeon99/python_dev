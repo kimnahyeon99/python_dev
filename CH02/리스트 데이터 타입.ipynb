{
 "cells": [
  {
   "cell_type": "markdown",
   "metadata": {},
   "source": [
    "# 2.14금"
   ]
  },
  {
   "cell_type": "markdown",
   "metadata": {},
   "source": [
    "### 리스트 데이터 타입\n",
    "1. 여러개 저장\n",
    "2. 하나를 묶는다\n",
    "\n",
    "##### 인덱싱\n",
    "- 단일값 처리"
   ]
  },
  {
   "cell_type": "code",
   "execution_count": null,
   "metadata": {},
   "outputs": [
    {
     "name": "stdout",
     "output_type": "stream",
     "text": [
      "[1, 2, 3]\n"
     ]
    }
   ],
   "source": [
    "a = [1,2,3]\n",
    "# print(문자변경출력) 안하고 a 출력 : 타입이 보인다.\n",
    "print(a)"
   ]
  },
  {
   "cell_type": "code",
   "execution_count": 7,
   "metadata": {},
   "outputs": [
    {
     "name": "stdout",
     "output_type": "stream",
     "text": [
      "1\n",
      "3\n",
      "3\n"
     ]
    }
   ],
   "source": [
    "## [1, 2, 3] 리스트에서 1값을 추출\n",
    "print(a[0])\n",
    "# 3 추출\n",
    "print(a[2])\n",
    "print(a[-1])\n"
   ]
  },
  {
   "cell_type": "code",
   "execution_count": 9,
   "metadata": {},
   "outputs": [
    {
     "name": "stdout",
     "output_type": "stream",
     "text": [
      "[1, 2, 4]\n",
      "[1, 'a', 'b', 'c', 4]\n"
     ]
    }
   ],
   "source": [
    "# 리스트 수정 (변경, 삭제)\n",
    "# 1. 리스트에서 하나의 값을 변경\n",
    "a = [1,2,3]\n",
    "# 3 => 4 변경\n",
    "a[-1] = 4\n",
    "print(a)\n",
    "\n",
    "# 2. 리스트에서 여러개 값을 변경\n",
    "# 2 => ['a', 'b', 'c']\n",
    "# 인덱싱\n",
    "# a[1] = ['a', 'b', 'c']\n",
    "a[1:2] = ['a', 'b', 'c'] #[1, 'a', 'b', 'c', 4]\n",
    "print(a) #[1, ['a', 'b', 'c'], 4]"
   ]
  },
  {
   "cell_type": "code",
   "execution_count": 11,
   "metadata": {},
   "outputs": [],
   "source": [
    "# 리스트 데이터(요소) 삭제\n",
    "a [1:3] = []"
   ]
  },
  {
   "cell_type": "code",
   "execution_count": 12,
   "metadata": {},
   "outputs": [
    {
     "data": {
      "text/plain": [
       "[1, 'c', 4]"
      ]
     },
     "execution_count": 12,
     "metadata": {},
     "output_type": "execute_result"
    }
   ],
   "source": [
    "a"
   ]
  },
  {
   "cell_type": "code",
   "execution_count": 14,
   "metadata": {},
   "outputs": [
    {
     "name": "stdout",
     "output_type": "stream",
     "text": [
      "[1, 4]\n"
     ]
    }
   ],
   "source": [
    "#object 삭제 : 함수 => del : 'c' 삭제 코드\n",
    "del a[1]\n",
    "print(a)"
   ]
  },
  {
   "cell_type": "code",
   "execution_count": 16,
   "metadata": {},
   "outputs": [
    {
     "name": "stdout",
     "output_type": "stream",
     "text": [
      "[1, 2, 3]\n",
      "[1, 2, 3, 4]\n",
      "[1, 2, 3, 4, [5, 6]]\n"
     ]
    }
   ],
   "source": [
    "#append : 마지막에 추가\n",
    "a = [1,2,3]\n",
    "print(a)\n",
    "a.append(4)\n",
    "print(a)\n",
    "a.append([5,6])\n",
    "print(a)"
   ]
  },
  {
   "cell_type": "code",
   "execution_count": 18,
   "metadata": {},
   "outputs": [
    {
     "name": "stdout",
     "output_type": "stream",
     "text": [
      "None\n",
      "[1, 2, 3, 4]\n",
      "None\n",
      "['a', 'b', 'c']\n"
     ]
    }
   ],
   "source": [
    "# sort 정렬\n",
    "a = [1,4,3,2]\n",
    "print(a.sort())\n",
    "print(a)\n",
    "a = ['a', 'c', 'b']\n",
    "print(a.sort())\n",
    "print(a)"
   ]
  },
  {
   "cell_type": "code",
   "execution_count": 19,
   "metadata": {},
   "outputs": [
    {
     "name": "stdout",
     "output_type": "stream",
     "text": [
      "None\n",
      "['b', 'c', 'a']\n"
     ]
    }
   ],
   "source": [
    "# reverse : 뒤집기(정렬이 아니다.)\n",
    "a = ['a', 'c', 'b']\n",
    "print(a.reverse())\n",
    "print(a)"
   ]
  },
  {
   "cell_type": "code",
   "execution_count": 22,
   "metadata": {},
   "outputs": [
    {
     "name": "stdout",
     "output_type": "stream",
     "text": [
      "2\n"
     ]
    }
   ],
   "source": [
    "# index : 리스트안에 있는 특정 값을 찾아 index 반환\n",
    "a = [1,2,3]\n",
    "print(a.index(3)) # 3값의 인덱스 찾아라\n",
    "# print(a.index(6)) # 6값은 없다 => Error\n"
   ]
  },
  {
   "cell_type": "code",
   "execution_count": 26,
   "metadata": {},
   "outputs": [
    {
     "name": "stdout",
     "output_type": "stream",
     "text": [
      "None\n",
      "[4, 1, 2, 3]\n",
      "None\n",
      "[4, 1, 2, 5, 3]\n"
     ]
    }
   ],
   "source": [
    "# 리스트에 요소 삽입(insert), append : 마지막 삽입\n",
    "# insert(위치(인덱스), 삽입할 값)\n",
    "a = [1,2,3]\n",
    "print(a.insert(0,4))\n",
    "print(a)\n",
    "print(a.insert(3,5))\n",
    "print(a)"
   ]
  },
  {
   "cell_type": "code",
   "execution_count": 30,
   "metadata": {},
   "outputs": [
    {
     "name": "stdout",
     "output_type": "stream",
     "text": [
      "None\n",
      "[2, 3, 1, 2, 3]\n",
      "None\n",
      "[2, 3, 2, 3]\n"
     ]
    }
   ],
   "source": [
    "# remove : 값을 찾아서 제거, 왼쪽에서부터 찾아서 제거\n",
    "a = [1,2,3,1,2,3]\n",
    "print(a.remove(1)) # 1제거\n",
    "print(a)\n",
    "print(a.remove(1))\n",
    "print(a)\n",
    "# print(a.remove(1))\n",
    "# print(a)"
   ]
  },
  {
   "cell_type": "code",
   "execution_count": null,
   "metadata": {},
   "outputs": [
    {
     "name": "stdout",
     "output_type": "stream",
     "text": [
      "3\n",
      "[1, 2]\n",
      "2\n",
      "[1]\n"
     ]
    }
   ],
   "source": [
    "# pop : 1. 마지막에서 꺼내고 삭제\n",
    "#       2. 특정값을 지정해서 꺼내고 삭제\n",
    "# 1.\n",
    "a = [1,2,3]\n",
    "print(a.pop()) # 파라미터 없다.\n",
    "print(a)\n",
    "# 2.\n",
    "print(a.pop(1)) # 1(index)꺼내고 삭제\n",
    "print(a)"
   ]
  },
  {
   "cell_type": "code",
   "execution_count": 34,
   "metadata": {},
   "outputs": [
    {
     "name": "stdout",
     "output_type": "stream",
     "text": [
      "2\n"
     ]
    }
   ],
   "source": [
    "# count : 특정 값의 개수 세기\n",
    "# count(특정값)\n",
    "a = [1,2,3,1]\n",
    "print(a.count(1)) # 1이 몇개?"
   ]
  },
  {
   "cell_type": "code",
   "execution_count": 38,
   "metadata": {},
   "outputs": [
    {
     "name": "stdout",
     "output_type": "stream",
     "text": [
      "None\n",
      "[1, 2, 3, [4, 5]]\n",
      "None\n",
      "[1, 2, 3, 4, 5]\n"
     ]
    }
   ],
   "source": [
    "# append\n",
    "a = [1,2,3]\n",
    "print(a.append([4,5]))\n",
    "print(a)\n",
    "a = [1,2,3]\n",
    "print(a.extend([4,5]))\n",
    "print(a)"
   ]
  },
  {
   "cell_type": "code",
   "execution_count": null,
   "metadata": {},
   "outputs": [],
   "source": []
  }
 ],
 "metadata": {
  "kernelspec": {
   "display_name": "firstenv",
   "language": "python",
   "name": "python3"
  },
  "language_info": {
   "codemirror_mode": {
    "name": "ipython",
    "version": 3
   },
   "file_extension": ".py",
   "mimetype": "text/x-python",
   "name": "python",
   "nbconvert_exporter": "python",
   "pygments_lexer": "ipython3",
   "version": "3.10.16"
  }
 },
 "nbformat": 4,
 "nbformat_minor": 2
}
