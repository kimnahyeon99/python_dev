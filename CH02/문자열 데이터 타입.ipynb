{
 "cells": [
  {
   "cell_type": "code",
   "execution_count": 1,
   "metadata": {},
   "outputs": [],
   "source": [
    "multiline = 'Life is too short \\n You need python'"
   ]
  },
  {
   "cell_type": "code",
   "execution_count": 2,
   "metadata": {},
   "outputs": [
    {
     "name": "stdout",
     "output_type": "stream",
     "text": [
      "Life is too short \n",
      " You need python\n"
     ]
    }
   ],
   "source": [
    "print(multiline)"
   ]
  },
  {
   "cell_type": "code",
   "execution_count": 3,
   "metadata": {},
   "outputs": [
    {
     "data": {
      "text/plain": [
       "'Life is too short \\n You need python'"
      ]
     },
     "execution_count": 3,
     "metadata": {},
     "output_type": "execute_result"
    }
   ],
   "source": [
    "# 출력이 아니다. 값만 확인\n",
    "multiline"
   ]
  },
  {
   "cell_type": "code",
   "execution_count": 9,
   "metadata": {},
   "outputs": [],
   "source": [
    "multiline = '''Life is too short\n",
    "You need Python'''"
   ]
  },
  {
   "cell_type": "code",
   "execution_count": 10,
   "metadata": {},
   "outputs": [
    {
     "name": "stdout",
     "output_type": "stream",
     "text": [
      "Life is too short\n",
      "You need Python\n"
     ]
    }
   ],
   "source": [
    "print(multiline)"
   ]
  },
  {
   "cell_type": "code",
   "execution_count": 11,
   "metadata": {},
   "outputs": [
    {
     "data": {
      "text/plain": [
       "'\\n1. 주석\\n2. 여러줄 주석\\n3. ~~~~~\\n'"
      ]
     },
     "execution_count": 11,
     "metadata": {},
     "output_type": "execute_result"
    }
   ],
   "source": [
    "'''\n",
    "1. 주석\n",
    "2. 여러줄 주석\n",
    "3. ~~~~~\n",
    "'''"
   ]
  },
  {
   "cell_type": "code",
   "execution_count": 12,
   "metadata": {},
   "outputs": [
    {
     "name": "stdout",
     "output_type": "stream",
     "text": [
      "=*2\n"
     ]
    }
   ],
   "source": [
    "print('=*2')"
   ]
  },
  {
   "cell_type": "code",
   "execution_count": 13,
   "metadata": {},
   "outputs": [
    {
     "name": "stdout",
     "output_type": "stream",
     "text": [
      "====================\n"
     ]
    }
   ],
   "source": [
    "print('='*20)"
   ]
  },
  {
   "cell_type": "code",
   "execution_count": 15,
   "metadata": {},
   "outputs": [],
   "source": [
    "a = 'Life is too short, You need Python'"
   ]
  },
  {
   "cell_type": "code",
   "execution_count": 20,
   "metadata": {},
   "outputs": [
    {
     "data": {
      "text/plain": [
       "('e', 's', 'n', 'n', 'h')"
      ]
     },
     "execution_count": 20,
     "metadata": {},
     "output_type": "execute_result"
    }
   ],
   "source": [
    "# [] : list\n",
    "a[3], a[12], a[33], a[-1], a[-3]"
   ]
  },
  {
   "cell_type": "code",
   "execution_count": 22,
   "metadata": {},
   "outputs": [
    {
     "name": "stdout",
     "output_type": "stream",
     "text": [
      "Life\n"
     ]
    }
   ],
   "source": [
    "# 슬라이싱 : 여러개 접근시 사용 => : 범위 지정할때 사용\n",
    "# [시작 인덱스 : 끝 인덱스-1]\n",
    "# 'Life' 단어 추출\n",
    "b = a[0] + a[1] + a[2] + a[3]\n",
    "print(b)"
   ]
  },
  {
   "cell_type": "code",
   "execution_count": null,
   "metadata": {},
   "outputs": [
    {
     "data": {
      "text/plain": [
       "'Life'"
      ]
     },
     "execution_count": 25,
     "metadata": {},
     "output_type": "execute_result"
    }
   ],
   "source": [
    "# 슬라이싱 : 'Life' 추출\n",
    "# a[시작인덱스 : 끝인덱스-1]\n",
    "# a = 'Life is too short, You need Python'\n",
    "a[0:4]"
   ]
  },
  {
   "cell_type": "markdown",
   "metadata": {},
   "source": [
    "### 슬라이싱 사용 방법\n",
    "1. [시작값:끝값] : 시작값부터 끝값-1 까지 추출\n",
    "2. [시작값:   ] : 시작값부터 끝까지\n",
    "3. [    :끝값] : 처음부터 끝값-1까지 추출\n",
    "4. [    :   ] : 처음부터 끝까지 \n",
    "-  '-' 마이너스 인덱스 사용할 수 있다"
   ]
  },
  {
   "cell_type": "code",
   "execution_count": 32,
   "metadata": {},
   "outputs": [
    {
     "name": "stdout",
     "output_type": "stream",
     "text": [
      "20250213\n",
      "Rainy\n"
     ]
    }
   ],
   "source": [
    "# 데이터로 년월일날씨가 입력된다.\n",
    "# 년, 월, 일 // 날씨 분리\n",
    "data = '20250213Rainy'\n",
    "\n",
    "date_ = data[:8]\n",
    "print(date_)\n",
    "weather = data[8:]\n",
    "print(weather)"
   ]
  },
  {
   "cell_type": "code",
   "execution_count": 40,
   "metadata": {},
   "outputs": [
    {
     "name": "stdout",
     "output_type": "stream",
     "text": [
      "i\n",
      "Python\n"
     ]
    }
   ],
   "source": [
    "a = 'Pithon'\n",
    "print(a[1])\n",
    "# a[1] = 'y' error, 수정안된다.\n",
    "# a[0] + 'y' +a[2:]\n",
    "a = 'Python'\n",
    "print(a)"
   ]
  },
  {
   "cell_type": "markdown",
   "metadata": {},
   "source": [
    "### 문자열 포매팅 : 엄청 중요\n",
    "1. % 사용하는 포매팅\n",
    "2. 문자열 객체 => format 함수 사용하는 포매팅\n",
    "3. f-string 사용하는 포매팅 : 제일 많이 사용"
   ]
  },
  {
   "cell_type": "code",
   "execution_count": 42,
   "metadata": {},
   "outputs": [
    {
     "name": "stdout",
     "output_type": "stream",
     "text": [
      "현재 온도는 18도 입니다.\n",
      "현재 온도는 20도 입니다.\n",
      "현재 온도는 22도 입니다.\n"
     ]
    }
   ],
   "source": [
    "a = '현재 온도는 18도 입니다.'\n",
    "print(a)\n",
    "a = '현재 온도는 20도 입니다.'\n",
    "print(a)\n",
    "a = '현재 온도는 22도 입니다.'\n",
    "print(a)"
   ]
  },
  {
   "cell_type": "code",
   "execution_count": 59,
   "metadata": {},
   "outputs": [
    {
     "name": "stdout",
     "output_type": "stream",
     "text": [
      "현재 온도는 18도 입니다.\n",
      "현재 온도는 18도 입니다.\n",
      "현재 온도는 18도 입니다.\n"
     ]
    }
   ],
   "source": [
    "# 1. % 사용\n",
    "k = 18\n",
    "print('현재 온도는 %d도 입니다.' %k)\n",
    "\n",
    "# 2. format function 사용\n",
    "print('현재 온도는 {0}도 입니다.' .format(k))\n",
    "\n",
    "# 3. f-string\n",
    "print(f'현재 온도는 {k}도 입니다.')"
   ]
  },
  {
   "cell_type": "markdown",
   "metadata": {},
   "source": [
    "### 중요 단축키 : 편집\n",
    "1. 한줄 복사 : shift + alt + 위, 아래\n",
    "2. 한줄 삭제 : ctrl + shift + k\n",
    "3. 한줄 이동(잘라내서 붙이기) : alt + 위, 아래"
   ]
  },
  {
   "cell_type": "code",
   "execution_count": 62,
   "metadata": {},
   "outputs": [
    {
     "name": "stdout",
     "output_type": "stream",
     "text": [
      "사과를 1개, 배는 2개 먹었다\n",
      "사과를 one개, 배는 two개 먹었다\n",
      "사과를 1개, 배는 2개 먹었다\n",
      "사과를 one개, 배는 two개 먹었다\n"
     ]
    }
   ],
   "source": [
    "# 1. % 사용\n",
    "# 숫자 : d, 문자 : s\n",
    "# print('사과를 %d개, 배는 %d개 먹었다' %1,2) error\n",
    "print('사과를 %d개, 배는 %d개 먹었다' %(1,2))\n",
    "print('사과를 %s개, 배는 %s개 먹었다' %('one','two'))\n",
    "\n",
    "num1 = 1\n",
    "num2 = 2\n",
    "str1 = 'one'\n",
    "str2 = 'two'\n",
    "# print('사과를 %d개, 배는 %개 먹었다' %num1, num2) error\n",
    "print('사과를 %d개, 배는 %d개 먹었다' % (num1, num2))\n",
    "print('사과를 %s개, 배는 %s개 먹었다' % (str1, str2))"
   ]
  },
  {
   "cell_type": "markdown",
   "metadata": {},
   "source": [
    "#### 문자열 포맷 코드(%d, %s)\n",
    "|코드|설명|\n",
    "|---|---|\n",
    "|%s|문자열|\n",
    "|%d|정수|\n",
    "|%f|실수|"
   ]
  },
  {
   "cell_type": "code",
   "execution_count": 70,
   "metadata": {},
   "outputs": [
    {
     "name": "stdout",
     "output_type": "stream",
     "text": [
      "        hijane\n",
      "10\n",
      "hi        jane\n"
     ]
    }
   ],
   "source": [
    "# 포맷 코드와 숫자 함께 사용하기\n",
    "# 1) 정렬과 공백\n",
    "print('%10sjane' % 'hi')\n",
    "print(len('%10s' % 'hi'))\n",
    "print('%-10sjane' % 'hi')"
   ]
  },
  {
   "cell_type": "code",
   "execution_count": 76,
   "metadata": {},
   "outputs": [
    {
     "name": "stdout",
     "output_type": "stream",
     "text": [
      "3.421343\n",
      "3.421342\n",
      "3.4213\n",
      "    3.4213\n",
      "10\n"
     ]
    }
   ],
   "source": [
    "# 소수점 표현\n",
    "print('%f' %3.42134264)\n",
    "print('%f' %3.42134234)\n",
    "# %0.4f\n",
    "# 4 : 소수점 자릿수, 0 : 정수 다 받겠다.\n",
    "print('%0.4f' %3.42134264)\n",
    "print('%10.4f' %3.42134264)\n",
    "print(len('%10.4f' %3.42134264))"
   ]
  },
  {
   "cell_type": "markdown",
   "metadata": {},
   "source": [
    "#### 문자열 관련 메소드\n",
    "1. count(찾을문자열) : 문자열에서 찾을문자열의 개수 반환 메소드\n"
   ]
  },
  {
   "cell_type": "code",
   "execution_count": 78,
   "metadata": {},
   "outputs": [
    {
     "name": "stdout",
     "output_type": "stream",
     "text": [
      "2\n",
      "1\n"
     ]
    }
   ],
   "source": [
    "a = 'hobby'\n",
    "print(a.count('b'))\n",
    "print(a.count('bb'))"
   ]
  },
  {
   "cell_type": "code",
   "execution_count": 82,
   "metadata": {},
   "outputs": [
    {
     "name": "stdout",
     "output_type": "stream",
     "text": [
      "10\n",
      "10\n",
      "-1\n"
     ]
    }
   ],
   "source": [
    "#2. 찾을 문자열의 시작 인덱스 반환(find, index)\n",
    "a = 'Python is best choice'\n",
    "print(a.find('b'))\n",
    "print(a.find('best'))\n",
    "print(a.find('k')) # 없는 값을 찾을 경우 -1을 반환한다.\n",
    "\n",
    "# print(a.index('k')) # 없는 문자열을 찾을 경우 에러 발생, 예외처리 필요"
   ]
  },
  {
   "cell_type": "code",
   "execution_count": null,
   "metadata": {},
   "outputs": [
    {
     "name": "stdout",
     "output_type": "stream",
     "text": [
      "b,b,b,b\n",
      ",\n"
     ]
    }
   ],
   "source": [
    "# 3. join(연결) method : 삽입\n",
    "a = ','\n",
    "b = 'bbbb'\n",
    "print(a.join(b)) # a를 b의 사이사이에 삽입해라\n",
    "print(b.join(a)) # b를 a의 사이사이에 삽입해라"
   ]
  },
  {
   "cell_type": "code",
   "execution_count": 90,
   "metadata": {},
   "outputs": [
    {
     "name": "stdout",
     "output_type": "stream",
     "text": [
      "HI\n",
      "hi\n",
      "HI\n",
      "hi\n"
     ]
    }
   ],
   "source": [
    "# 4. upper(소->대), lower(대->소)\n",
    "a = 'hi'\n",
    "print(a.upper()) # 소문자를 받는놈 -> 복사로 받는다\n",
    "print(a) # 원래 소문자는 안 바뀐다\n",
    "a = a.upper()\n",
    "print(a) # 대문자 변경된 것을 출력\n",
    "print(a.lower())"
   ]
  },
  {
   "cell_type": "code",
   "execution_count": 95,
   "metadata": {},
   "outputs": [
    {
     "name": "stdout",
     "output_type": "stream",
     "text": [
      "문자 길이 :  6\n",
      "  hi의 문자길이 : 4\n",
      "hi  의 문자길이 : 4\n"
     ]
    }
   ],
   "source": [
    "# 양쪽 공백 지우기 : 중간에 있는 공백 삭제 안된다.\n",
    "# lstrip():left, rstrip():right, strip():left,right\n",
    "a = '  hi  '\n",
    "print('문자 길이 : ', len(a))\n",
    "b = a.rstrip()\n",
    "print(b + '의 문자길이 : ' + str(len(b)))\n",
    "c = a.lstrip()\n",
    "print(c + '의 문자길이 : ' + str(len(c)))\n",
    "\n"
   ]
  },
  {
   "cell_type": "markdown",
   "metadata": {},
   "source": [
    "# 2.14 금\n",
    "- 리스트 데이터 타입"
   ]
  },
  {
   "cell_type": "code",
   "execution_count": 2,
   "metadata": {},
   "outputs": [
    {
     "name": "stdout",
     "output_type": "stream",
     "text": [
      "사과를 1개를 먹었다\n",
      "사과를 five개를 먹었다\n"
     ]
    }
   ],
   "source": [
    "# 문자열 object 생성 -> self 생성 -> 메소드 사용가능\n",
    "num1 = 1\n",
    "num2 = 3\n",
    "a = '사과를 {0}개를 먹었다'\n",
    "# a.format()\n",
    "print(a.format(num1))\n",
    "print(a.format('five'))\n"
   ]
  },
  {
   "cell_type": "code",
   "execution_count": 3,
   "metadata": {},
   "outputs": [
    {
     "name": "stdout",
     "output_type": "stream",
     "text": [
      "I ate 1 apples. so I was sick for three days\n"
     ]
    }
   ],
   "source": [
    "# 2개 이상의 값 넣기\n",
    "number = 1\n",
    "day = 'three'\n",
    "\n",
    "str_ = 'I ate {0} apples. so I was sick for {1} days'\n",
    "print(str_.format(number, day))"
   ]
  },
  {
   "cell_type": "code",
   "execution_count": 5,
   "metadata": {},
   "outputs": [
    {
     "name": "stdout",
     "output_type": "stream",
     "text": [
      "I ate 1 apples. so I was sick for 3 days\n"
     ]
    }
   ],
   "source": [
    "# 변수명으로 넣기\n",
    "# number = 1\n",
    "# day = 'three'\n",
    "str_ = 'I ate {number} apples. so I was sick for {day} days'\n",
    "# 초기화해서 호출해야 한다.\n",
    "print(str_.format(number=1, day=3))"
   ]
  },
  {
   "cell_type": "code",
   "execution_count": 7,
   "metadata": {},
   "outputs": [
    {
     "name": "stdout",
     "output_type": "stream",
     "text": [
      "I ate 1 apples. so I was sick for three days\n"
     ]
    }
   ],
   "source": [
    "# f-string 방식으로 변수명으로 넣기\n",
    "number = 1\n",
    "day = 'three'\n",
    "\n",
    "# 초기화해서 호출해야 한다.\n",
    "print(f'I ate {number} apples. so I was sick for {day} days')"
   ]
  },
  {
   "cell_type": "code",
   "execution_count": 11,
   "metadata": {},
   "outputs": [
    {
     "data": {
      "text/plain": [
       "[1, 2, 3, ['a', 'b', 'c']]"
      ]
     },
     "execution_count": 11,
     "metadata": {},
     "output_type": "execute_result"
    }
   ],
   "source": [
    "a = [1, 2, 3, ['a', 'b', 'c']]\n",
    "a"
   ]
  },
  {
   "cell_type": "code",
   "execution_count": 15,
   "metadata": {},
   "outputs": [
    {
     "name": "stdout",
     "output_type": "stream",
     "text": [
      "['a', 'b', 'c']\n",
      "['a', 'b', 'c']\n",
      "b\n",
      "b\n"
     ]
    }
   ],
   "source": [
    "# [1, 2, 3, ['a', 'b', 'c']]\n",
    "print(a[3]) # ['a', 'b', 'c']\n",
    "print(a[-1])\n",
    "# b 추출\n",
    "print(a[3][1])\n",
    "print(a[-1][1])"
   ]
  },
  {
   "cell_type": "code",
   "execution_count": 17,
   "metadata": {},
   "outputs": [
    {
     "name": "stdout",
     "output_type": "stream",
     "text": [
      "[1, 2]\n",
      "[1, 2]\n"
     ]
    }
   ],
   "source": [
    "# 슬라이싱 : 여러개 추출(리스트반환), [start  : end-1]\n",
    "a = [1,2,3,4,5]\n",
    "# 1,2 추출\n",
    "print(a[0:2])\n",
    "print(a[:2])"
   ]
  },
  {
   "cell_type": "code",
   "execution_count": 18,
   "metadata": {},
   "outputs": [
    {
     "data": {
      "text/plain": [
       "[1, 2, 3, ['a', 'b', 'c'], 4, 5]"
      ]
     },
     "execution_count": 18,
     "metadata": {},
     "output_type": "execute_result"
    }
   ],
   "source": [
    "# 중첩된 리스트(리스트안에 리스트 있는 것) 슬라이싱\n",
    "a = [1,2,3,['a','b','c'],4,5]\n",
    "a"
   ]
  },
  {
   "cell_type": "code",
   "execution_count": 20,
   "metadata": {},
   "outputs": [
    {
     "name": "stdout",
     "output_type": "stream",
     "text": [
      "['a', 'b']\n",
      "['a', 'b']\n"
     ]
    }
   ],
   "source": [
    "#['a','b']\n",
    "print(a[3][0:2])\n",
    "print(a[3][:2])\n"
   ]
  },
  {
   "cell_type": "code",
   "execution_count": null,
   "metadata": {},
   "outputs": [
    {
     "name": "stdout",
     "output_type": "stream",
     "text": [
      "[1, 2, 3, 4, 5, 6]\n"
     ]
    }
   ],
   "source": [
    "# 리스트에서 사용하는 연산자(+, *)\n",
    "# 1. 리스트 + 리스트 : 연산자보다 함수를 사용한다.\n",
    "a = [1,2,3]\n",
    "b = [4,5,6]\n",
    "print(a + b) #[1, 2, 3, 4, 5, 6]"
   ]
  },
  {
   "cell_type": "code",
   "execution_count": null,
   "metadata": {},
   "outputs": [
    {
     "name": "stdout",
     "output_type": "stream",
     "text": [
      "[1, 2, 3, 1, 2, 3, 1, 2, 3]\n"
     ]
    }
   ],
   "source": [
    "# 연산자 사용 : 리스트 * 정수\n",
    "a = [1,2,3]\n",
    "print(a * 3) #[1, 2, 3, 1, 2, 3, 1, 2, 3]"
   ]
  },
  {
   "cell_type": "code",
   "execution_count": 27,
   "metadata": {},
   "outputs": [
    {
     "name": "stdout",
     "output_type": "stream",
     "text": [
      "3\n",
      "<class 'int'>\n",
      "3hi\n"
     ]
    }
   ],
   "source": [
    "# 리스트 연산자 사용시 주의 \n",
    "a = [1,2,3]\n",
    "print(a[2])\n",
    "print(type(a[2]))\n",
    "# print(a[2]+'hi') Error\n",
    "print(str(a[2])+'hi') # str(a[2]) : 3 => '3'"
   ]
  },
  {
   "cell_type": "code",
   "execution_count": null,
   "metadata": {},
   "outputs": [
    {
     "name": "stdout",
     "output_type": "stream",
     "text": [
      "[1, 2, 4]\n",
      "[1, 'a', 'b', 'c', 4]\n"
     ]
    }
   ],
   "source": [
    "# 리스트 수정 (변경, 삭제)\n",
    "# 1. 리스트에서 하나의 값을 변경\n",
    "a = [1,2,3]\n",
    "# 3 => 4 변경\n",
    "a[-1] = 4\n",
    "print(a)\n",
    "\n",
    "# 2. 리스트에서 여러개 값을 변경\n",
    "# 2 => ['a', 'b', 'c']\n",
    "# 인덱싱\n",
    "# a[1] = ['a', 'b', 'c']\n",
    "a[1:2] = ['a', 'b', 'c'] #[1, 'a', 'b', 'c', 4]\n",
    "print(a) #[1, ['a', 'b', 'c'], 4]"
   ]
  }
 ],
 "metadata": {
  "kernelspec": {
   "display_name": "firstenv",
   "language": "python",
   "name": "python3"
  },
  "language_info": {
   "codemirror_mode": {
    "name": "ipython",
    "version": 3
   },
   "file_extension": ".py",
   "mimetype": "text/x-python",
   "name": "python",
   "nbconvert_exporter": "python",
   "pygments_lexer": "ipython3",
   "version": "3.10.16"
  }
 },
 "nbformat": 4,
 "nbformat_minor": 2
}
