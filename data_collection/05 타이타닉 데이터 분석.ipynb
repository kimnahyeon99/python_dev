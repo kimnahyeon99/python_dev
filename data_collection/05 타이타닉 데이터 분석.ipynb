{
 "cells": [
  {
   "cell_type": "markdown",
   "metadata": {},
   "source": [
    "---\n",
    "#### 타이타닉 생존여부 예측 모델\n",
    "---\n",
    "\n",
    "1. 예측 모델 처리 순서\n",
    "    - 목표 설정 : 가장 중요\n",
    "    - 데이터 수집\n",
    "    - 데이터 분석(시각화)\n",
    "    - 데이터 전처리\n",
    "    - 모델 학습\n",
    "    - 모델 성능 평가 : 성능이 떨어지면 위로 다시 돌아가야 한다.\n"
   ]
  },
  {
   "cell_type": "code",
   "execution_count": 1,
   "metadata": {},
   "outputs": [],
   "source": [
    "# 데이터 로드 및 기본 정보 확인\n",
    "# 데이터 집합 : train.csv, test.csv(사용하지 않는다)\n",
    "\n",
    "import numpy as np\n",
    "import pandas as pd\n",
    "import matplotlib.pyplot as plt\n",
    "import seaborn as sns\n",
    "import warnings\n",
    "warnings.filterwarnings('ignore')"
   ]
  },
  {
   "cell_type": "code",
   "execution_count": 2,
   "metadata": {},
   "outputs": [
    {
     "data": {
      "text/html": [
       "<div>\n",
       "<style scoped>\n",
       "    .dataframe tbody tr th:only-of-type {\n",
       "        vertical-align: middle;\n",
       "    }\n",
       "\n",
       "    .dataframe tbody tr th {\n",
       "        vertical-align: top;\n",
       "    }\n",
       "\n",
       "    .dataframe thead th {\n",
       "        text-align: right;\n",
       "    }\n",
       "</style>\n",
       "<table border=\"1\" class=\"dataframe\">\n",
       "  <thead>\n",
       "    <tr style=\"text-align: right;\">\n",
       "      <th></th>\n",
       "      <th>PassengerId</th>\n",
       "      <th>Survived</th>\n",
       "      <th>Pclass</th>\n",
       "      <th>Name</th>\n",
       "      <th>Sex</th>\n",
       "      <th>Age</th>\n",
       "      <th>SibSp</th>\n",
       "      <th>Parch</th>\n",
       "      <th>Ticket</th>\n",
       "      <th>Fare</th>\n",
       "      <th>Cabin</th>\n",
       "      <th>Embarked</th>\n",
       "    </tr>\n",
       "  </thead>\n",
       "  <tbody>\n",
       "    <tr>\n",
       "      <th>0</th>\n",
       "      <td>1</td>\n",
       "      <td>0</td>\n",
       "      <td>3</td>\n",
       "      <td>Braund, Mr. Owen Harris</td>\n",
       "      <td>male</td>\n",
       "      <td>22.0</td>\n",
       "      <td>1</td>\n",
       "      <td>0</td>\n",
       "      <td>A/5 21171</td>\n",
       "      <td>7.2500</td>\n",
       "      <td>NaN</td>\n",
       "      <td>S</td>\n",
       "    </tr>\n",
       "    <tr>\n",
       "      <th>1</th>\n",
       "      <td>2</td>\n",
       "      <td>1</td>\n",
       "      <td>1</td>\n",
       "      <td>Cumings, Mrs. John Bradley (Florence Briggs Th...</td>\n",
       "      <td>female</td>\n",
       "      <td>38.0</td>\n",
       "      <td>1</td>\n",
       "      <td>0</td>\n",
       "      <td>PC 17599</td>\n",
       "      <td>71.2833</td>\n",
       "      <td>C85</td>\n",
       "      <td>C</td>\n",
       "    </tr>\n",
       "    <tr>\n",
       "      <th>2</th>\n",
       "      <td>3</td>\n",
       "      <td>1</td>\n",
       "      <td>3</td>\n",
       "      <td>Heikkinen, Miss. Laina</td>\n",
       "      <td>female</td>\n",
       "      <td>26.0</td>\n",
       "      <td>0</td>\n",
       "      <td>0</td>\n",
       "      <td>STON/O2. 3101282</td>\n",
       "      <td>7.9250</td>\n",
       "      <td>NaN</td>\n",
       "      <td>S</td>\n",
       "    </tr>\n",
       "    <tr>\n",
       "      <th>3</th>\n",
       "      <td>4</td>\n",
       "      <td>1</td>\n",
       "      <td>1</td>\n",
       "      <td>Futrelle, Mrs. Jacques Heath (Lily May Peel)</td>\n",
       "      <td>female</td>\n",
       "      <td>35.0</td>\n",
       "      <td>1</td>\n",
       "      <td>0</td>\n",
       "      <td>113803</td>\n",
       "      <td>53.1000</td>\n",
       "      <td>C123</td>\n",
       "      <td>S</td>\n",
       "    </tr>\n",
       "    <tr>\n",
       "      <th>4</th>\n",
       "      <td>5</td>\n",
       "      <td>0</td>\n",
       "      <td>3</td>\n",
       "      <td>Allen, Mr. William Henry</td>\n",
       "      <td>male</td>\n",
       "      <td>35.0</td>\n",
       "      <td>0</td>\n",
       "      <td>0</td>\n",
       "      <td>373450</td>\n",
       "      <td>8.0500</td>\n",
       "      <td>NaN</td>\n",
       "      <td>S</td>\n",
       "    </tr>\n",
       "  </tbody>\n",
       "</table>\n",
       "</div>"
      ],
      "text/plain": [
       "   PassengerId  Survived  Pclass  \\\n",
       "0            1         0       3   \n",
       "1            2         1       1   \n",
       "2            3         1       3   \n",
       "3            4         1       1   \n",
       "4            5         0       3   \n",
       "\n",
       "                                                Name     Sex   Age  SibSp  \\\n",
       "0                            Braund, Mr. Owen Harris    male  22.0      1   \n",
       "1  Cumings, Mrs. John Bradley (Florence Briggs Th...  female  38.0      1   \n",
       "2                             Heikkinen, Miss. Laina  female  26.0      0   \n",
       "3       Futrelle, Mrs. Jacques Heath (Lily May Peel)  female  35.0      1   \n",
       "4                           Allen, Mr. William Henry    male  35.0      0   \n",
       "\n",
       "   Parch            Ticket     Fare Cabin Embarked  \n",
       "0      0         A/5 21171   7.2500   NaN        S  \n",
       "1      0          PC 17599  71.2833   C85        C  \n",
       "2      0  STON/O2. 3101282   7.9250   NaN        S  \n",
       "3      0            113803  53.1000  C123        S  \n",
       "4      0            373450   8.0500   NaN        S  "
      ]
     },
     "execution_count": 2,
     "metadata": {},
     "output_type": "execute_result"
    }
   ],
   "source": [
    "train_df=pd.read_csv('./data/train.csv')\n",
    "train_df.head()"
   ]
  },
  {
   "cell_type": "markdown",
   "metadata": {},
   "source": [
    "####"
   ]
  },
  {
   "cell_type": "markdown",
   "metadata": {},
   "source": [
    "#### 주요 컬럼 정리\n",
    "- Survived(목표변수, 원래답) : 0(사망), 1(생존)\n",
    "- Pclass(등급) : 1등석(1), 2등석(2), 3등석(3)\n",
    "- Sex(성별) : male(남성), female(여성)\n",
    "- Age(나이) : 데이터 타입 float, 실수다\n",
    "    - 연속데이터다 => 범주형 변경 필요, 카테고리별 데이터\n",
    "- SibSp(형제/배우자 수) : 명수\n",
    "- Parch(부모/자식 수) : 명수\n",
    "- Cabin(방이름) : C001, D002, E\n",
    "- Fare(티켓요금) : \n",
    "- Embarked(승선 항구) : C(Cherbourg), Q(Queenstown), S(Southampton)"
   ]
  },
  {
   "cell_type": "code",
   "execution_count": 3,
   "metadata": {},
   "outputs": [
    {
     "data": {
      "image/png": "[encoded data removed]",
      "text/plain": [
       "<Figure size 600x400 with 1 Axes>"
      ]
     },
     "metadata": {},
     "output_type": "display_data"
    }
   ],
   "source": [
    "# 탐색적 데이터 분석(EDA)\n",
    "# 1. 생존자(목표변수) 비율 : 불균형 데이터 셋, 사망자가 60% 이상 된다.\n",
    "plt.figure(figsize=(6,4))\n",
    "sns.countplot(\n",
    "    data=train_df\n",
    "    , x='Survived'\n",
    "    , palette='coolwarm'\n",
    ")\n",
    "plt.show()"
   ]
  },
  {
   "cell_type": "code",
   "execution_count": 4,
   "metadata": {},
   "outputs": [
    {
     "data": {
      "image/png": "[encoded data removed]",
      "text/plain": [
       "<Figure size 600x400 with 1 Axes>"
      ]
     },
     "metadata": {},
     "output_type": "display_data"
    }
   ],
   "source": [
    "# 2. 성별과 생존 관계를 시각화\n",
    "plt.figure(figsize=(6,4))\n",
    "\n",
    "sns.barplot(\n",
    "    data=train_df\n",
    "    , x='Sex'\n",
    "    , y='Survived'\n",
    "    , palette='coolwarm'\n",
    ")\n",
    "\n",
    "plt.show()"
   ]
  },
  {
   "cell_type": "code",
   "execution_count": 5,
   "metadata": {},
   "outputs": [
    {
     "data": {
      "image/png": "[encoded data removed]",
      "text/plain": [
       "<Figure size 600x400 with 1 Axes>"
      ]
     },
     "metadata": {},
     "output_type": "display_data"
    }
   ],
   "source": [
    "# 3. 등급과 생존 관계\n",
    "plt.figure(figsize=(6,4))\n",
    "\n",
    "sns.barplot(\n",
    "    data=train_df\n",
    "    , x='Pclass'\n",
    "    , y='Survived'\n",
    "    , palette='coolwarm'\n",
    ")\n",
    "\n",
    "plt.show()"
   ]
  },
  {
   "cell_type": "code",
   "execution_count": 6,
   "metadata": {},
   "outputs": [
    {
     "data": {
      "image/png": "[encoded data removed]",
      "text/plain": [
       "<Figure size 600x400 with 1 Axes>"
      ]
     },
     "metadata": {},
     "output_type": "display_data"
    }
   ],
   "source": [
    "# 4. 나이(연속데이터)와 생존 관계\n",
    "# 히스토그램\n",
    "# 2. 성별과 생존 관계 시각화\n",
    "plt.figure(figsize=(6,4))\n",
    "\n",
    "# 생존 데이터 관련\n",
    "# 산사람들의 나이에 대한 분포를 그리겠다는 뜻\n",
    "sns.histplot(\n",
    "    x=train_df[train_df['Survived']==1]['Age']\n",
    "    , bins=30 # 30개 구간으로 나누고 밀도\n",
    "    , color='green'\n",
    "    , kde=True # 곡선 표시 여부 \n",
    "    , label='Survived'\n",
    ")\n",
    "\n",
    "# 사망 데이터 관련\n",
    "sns.histplot(\n",
    "    x=train_df[train_df['Survived']==0]['Age']\n",
    "    , bins=30 # 30개 구간으로 나누고 밀도\n",
    "    , color='red'\n",
    "    , kde=True # 곡선 표시 여부 \n",
    "    , label='Not Survived'\n",
    ")\n",
    "\n",
    "plt.legend()\n",
    "plt.show()\n",
    "\n",
    "# 어린이(10세 이해)의 생존율이 높음\n",
    "# 20대~40대 성인 남성의 생존율이 낮음"
   ]
  },
  {
   "cell_type": "code",
   "execution_count": 7,
   "metadata": {},
   "outputs": [
    {
     "data": {
      "text/plain": [
       "np.int64(549)"
      ]
     },
     "execution_count": 7,
     "metadata": {},
     "output_type": "execute_result"
    }
   ],
   "source": [
    "(train_df['Survived']==0).sum()"
   ]
  },
  {
   "cell_type": "code",
   "execution_count": 8,
   "metadata": {},
   "outputs": [
    {
     "data": {
      "text/plain": [
       "np.int64(342)"
      ]
     },
     "execution_count": 8,
     "metadata": {},
     "output_type": "execute_result"
    }
   ],
   "source": [
    "(train_df['Survived']==1).sum()"
   ]
  },
  {
   "cell_type": "code",
   "execution_count": 9,
   "metadata": {},
   "outputs": [],
   "source": [
    "# train_df[train_df['Survived']==1]['Age'] # 생존한 사람의 나이 추출"
   ]
  },
  {
   "cell_type": "markdown",
   "metadata": {},
   "source": [
    "---\n",
    "#### 연속형 데이터를 범주형 데이터 변환\n",
    "---\n",
    "\n",
    "1. 왜 나이를 범주형 데이터로 변환하는가?\n",
    "    - 연속형 데이터의 문제점\n",
    "        - 나이는 0세부터 80세 이상가지 연속 값을 가지고 있는데, 특정 연령대가 생존율과 강한 연관성이 있더라도 머신러닝이 모델이 학습하기 어렵다\n",
    "    - 분류 모델(결정트리, 랜덤포레스트, XGBoost 등)들은 연속형 값보다 범주형 변수를 학습 더 잘할 수 있다.\n",
    "    - 장점\n",
    "        - 이상치 데이터에 의한 학습 문제 완화"
   ]
  },
  {
   "cell_type": "code",
   "execution_count": 10,
   "metadata": {},
   "outputs": [
    {
     "data": {
      "text/plain": [
       "0        1\n",
       "1        2\n",
       "2        1\n",
       "3        2\n",
       "4        2\n",
       "      ... \n",
       "886      1\n",
       "887      1\n",
       "888    NaN\n",
       "889      1\n",
       "890      1\n",
       "Name: Age, Length: 891, dtype: category\n",
       "Categories (5, int64): [0 < 1 < 2 < 3 < 4]"
      ]
     },
     "execution_count": 10,
     "metadata": {},
     "output_type": "execute_result"
    }
   ],
   "source": [
    "# 범주화 방법\n",
    "# 1. 등간격 방법(Equal Interval) : 일정한 간격으로 나누는 방법(10대,20대....)\n",
    "# 나이 구간을 5개로 나누기(0~16:0, 17~32:1, 33~48:2, 49~64:3, 65+:4)\n",
    "# 장점 : 특정 구간에서 생존율이 비슷한지 비교가능\n",
    "# 단점 : 데이터 분포와 상관없이 균등하게 나누므로, 특정 그룹이 너무 많거나 적을 수 있다.\n",
    "age_bin=pd.cut(\n",
    "    train_df['Age']\n",
    "    , bins=[0,16,32,48,64,100]\n",
    "    , labels=[0,1,2,3,4]\n",
    ")\n",
    "age_bin\n"
   ]
  },
  {
   "cell_type": "code",
   "execution_count": 11,
   "metadata": {},
   "outputs": [
    {
     "data": {
      "text/plain": [
       "0        1\n",
       "1        2\n",
       "2        1\n",
       "3        2\n",
       "4        2\n",
       "      ... \n",
       "886      1\n",
       "887      0\n",
       "888    NaN\n",
       "889      1\n",
       "890      2\n",
       "Name: Age, Length: 891, dtype: category\n",
       "Categories (4, int64): [0 < 1 < 2 < 3]"
      ]
     },
     "execution_count": 11,
     "metadata": {},
     "output_type": "execute_result"
    }
   ],
   "source": [
    "# 2. 분위수 기반(Quantile Binning) : 데이터를 동등한 개수의 그룹으로 나누는 방법\n",
    "# 해석\n",
    "# 1사분위 : (최소~25%) : 0\n",
    "# 2사분위 : (25%~50%) : 1\n",
    "# 3사분위 : (50%~75%) : 2\n",
    "# 4사분위 : (75%~최대) : 3\n",
    "# 장점 : 각 그룹에 데이터가 균등하게 분포되도록 나뉘므로 데이터 불균형을 방지\n",
    "# 단점 : 나이에 의미적 구분이 불분명할 수 있다.\n",
    "age_bin=pd.qcut(\n",
    "    train_df['Age']\n",
    "    , q=4 # 4분위를 주겠다는 뜻\n",
    "    , labels=[0,1,2,3]\n",
    ")\n",
    "age_bin"
   ]
  },
  {
   "cell_type": "code",
   "execution_count": 12,
   "metadata": {},
   "outputs": [
    {
     "data": {
      "text/plain": [
       "0      2\n",
       "1      3\n",
       "2      2\n",
       "3      3\n",
       "4      3\n",
       "      ..\n",
       "886    2\n",
       "887    1\n",
       "888    6\n",
       "889    2\n",
       "890    3\n",
       "Name: Age, Length: 891, dtype: int64"
      ]
     },
     "execution_count": 12,
     "metadata": {},
     "output_type": "execute_result"
    }
   ],
   "source": [
    "# 3. 의미 기반 그룹화(도메인 지식 활용) : 연령대를 실제 생존율 패턴에 맞춰 직접 지정\n",
    "# 10대, 20대\n",
    "# 람다 함수\n",
    "# 장점 : 실제 생존율 패턴과 관련이 있는 연령대 구분\n",
    "# 단점 :(균등하지 않으면)성능이 떨어질 수 있다.\n",
    "age_bin=train_df['Age'].apply(\n",
    "    lambda x : 0 if x <= 10 else # 0~10살 까지는 0으로 바꾸겠다.\n",
    "                1 if x <= 20 else\n",
    "                2 if x <= 30 else\n",
    "                3 if x <= 40 else\n",
    "                4 if x <= 50 else\n",
    "                5 if x <= 60 else\n",
    "                6  \n",
    ")\n",
    "age_bin"
   ]
  },
  {
   "cell_type": "markdown",
   "metadata": {},
   "source": [
    "#### 결론 및 정리\n",
    "\n",
    "1. 언제 범주형 변환을 사용할까?\n",
    "    - 결정트리기반 모델(Random Forest, XGBoost)에서는 범주형 변환이 유용할 수 있다.\n",
    "    - 데이터가 비선형관계일 경우, 연속형보다 범주형 변수가 성능이 더 좋을 수 있다.\n",
    "    - 데이터가 적거나 이상치가 많을 때 범주화하면 안정적인 학습이 가능\n",
    "2. 어떤 상황에서 어떤 방법이 좋을까?\n",
    "    - 데이터가 충분히 많다면 분위수 변환(qcut)이 일반적으로(무조건x) 성능이 좋다.\n",
    "    - 의미적인 구분이 필요하다면 도메인 지식 기반 그룹화가 더 직관적일 수 있다.\n",
    "    - 기본적으로는 등간격 변환 후 다른 방식의 성능을 비교하는 방식으로 추천"
   ]
  },
  {
   "cell_type": "markdown",
   "metadata": {},
   "source": [
    "3.12 수"
   ]
  },
  {
   "cell_type": "markdown",
   "metadata": {},
   "source": [
    "---\n",
    "#### 데이터 종류\n",
    "---\n",
    "\n",
    " 데이터 크게 두 가지로 구분된다\n",
    "\n",
    " 1. 질적 데이터(Qualitative Data, 범주형데이터) -> 수치화할 수 없는 데이터\n",
    " 2. 양적 데이터(Quantitative Data, 수치형데이터) -> 수치로 측정되는 데이터\n",
    "\n",
    " - 각각의 세부 유형과 특징\n",
    "    - 질적데이터\n",
    "        - 명목형(Nominal) : 순서가 없음\n",
    "            - 예시 : 성별, 혈액형, 국적\n",
    "            - 분석방법 : 빈도 분석, 카이제곱검정(범주형데이터 간의 관계를 검정)\n",
    "        - 서열형(Ordinal) : 순서가 있는 명목형 데이터\n",
    "            - 예시 : 고객만족도, 학점\n",
    "            - 분석방법 : 중앙값 분석, 순위 상관 분석\n",
    "    - 양적데이터\n",
    "     - 이산형데이터(Discrete)\n",
    "        - 예시 : 고객 방문 횟수(1,2,3), 자녀수\n",
    "        - 분석방법 : 평균, 분산, 포아송분포\n",
    "    - 연속형데이터(Continuous)\n",
    "        - 예시 : 키, 몸무게, 온도\n",
    "        - 분석방법 : 평균, 표준편차(STD), 정규분포"
   ]
  },
  {
   "cell_type": "code",
   "execution_count": 13,
   "metadata": {},
   "outputs": [
    {
     "name": "stdout",
     "output_type": "stream",
     "text": [
      "Gender\n",
      "Male      3\n",
      "Female    2\n",
      "Name: count, dtype: int64\n"
     ]
    }
   ],
   "source": [
    "# 2. 질적 데이터(범주형 데이터)의 통계적 접근\n",
    "# 질적 데이터는 숫자로 연산할 수 없기 때문에 비율, 빈도 분석이 핵심이다.\n",
    "# 2.1 명목형 데이터(Nominal Data)\n",
    "# 데이터 간 순서가 없으며, 단순히 범주를 나타낸다.\n",
    "# 빈도 분석(Frequency Analysis) : 각 범주의 개수를 비교해서 분포를 파악\n",
    "# 성별 빈도 분석 // 개수 파악\n",
    "import numpy as np\n",
    "import pandas as pd\n",
    "\n",
    "data = pd.DataFrame({\n",
    "    'Gender':['Male','Female','Female','Male','Male']\n",
    "})\n",
    "\n",
    "# 빈도 분석\n",
    "print(data['Gender'].value_counts())"
   ]
  },
  {
   "cell_type": "code",
   "execution_count": 14,
   "metadata": {},
   "outputs": [],
   "source": [
    "# 결과가 series로 나온다."
   ]
  },
  {
   "cell_type": "code",
   "execution_count": 15,
   "metadata": {},
   "outputs": [
    {
     "name": "stdout",
     "output_type": "stream",
     "text": [
      "P-value : 0.000728029450456362\n"
     ]
    }
   ],
   "source": [
    "# 카이제곱 검정(Chi-Square Test)\n",
    "# 범주형 데이터 간의 관계를 검정(의미가 있냐, 없냐)할 때 사용\n",
    "# 예 : 성별과 생존 여부 관계 검정\n",
    "from scipy.stats import chi2_contingency\n",
    "\n",
    "# 성별과 생존 여부 교차표\n",
    "# data=np.array([[50,100],[80,70]])\n",
    "# [50,100] : 남성의 생존, 사망\n",
    "# [80,70] : 여성의 생존, 사망\n",
    "data=np.array([[50,100],[80,70]])\n",
    "chi2, p, _, _ =  chi2_contingency(data) # 원래 4개 값인데 두개만 받고 싶을때 _ 사용\n",
    "print(f'P-value : {p}')\n",
    "# P-value < 0.05이면 성별과 생존 여부 간에 유의미한 차이가 있다는 뜻"
   ]
  },
  {
   "cell_type": "code",
   "execution_count": 16,
   "metadata": {},
   "outputs": [],
   "source": [
    "# 0.05보다 작으면 의미가 있다.\n",
    "# = 성별에 따라서 죽고 사느냐 영향이 있다. "
   ]
  },
  {
   "cell_type": "code",
   "execution_count": 17,
   "metadata": {},
   "outputs": [
    {
     "data": {
      "text/plain": [
       "np.float64(2.5)"
      ]
     },
     "execution_count": 17,
     "metadata": {},
     "output_type": "execute_result"
    }
   ],
   "source": [
    "# 2. 서열형 데이터(Ordinal Data)\n",
    "# 데이터 간 순서는 있지만 간격이 일정하지 않은 데이터 // 간격이 일정하지 않다? 평균을 때리면 안된다.\n",
    "# 중앙값(Median) 분석\n",
    "# 목적 : 평균을 사용하기 어려울 때 사용\n",
    "data=np.array([1,2,2,3,4,5]) # 1:불만족, 5:매우만족\n",
    "np.median(data)"
   ]
  },
  {
   "cell_type": "code",
   "execution_count": 18,
   "metadata": {},
   "outputs": [
    {
     "name": "stdout",
     "output_type": "stream",
     "text": [
      "Spearman Correlation : 0.3, P-value : 0.6238376647810728\n"
     ]
    }
   ],
   "source": [
    "# 고객만족도(서열)와 재구매(서열) 횟수의 상관관계 분석\n",
    "# 서열 데이터 간의 상관관계를 분석하는 방법\n",
    "# 스피어만 순위 상관 분석(Spearman's Rank Correlation)\n",
    "\n",
    "# data 생성\n",
    "x=[1,2,3,2,1] # 만족도 => P-value : 0.013846832988859107 = 의미있다.\n",
    "x=[1,2,3,4,5] # 만족도 => P-value : 0.6238376647810728 = 의미없다.\n",
    "y=[10,20,30,25,15] # 재구매\n",
    "\n",
    "from scipy.stats import spearmanr\n",
    "corr, p=spearmanr(x,y)\n",
    "# p-value < 0.05이면 만족도가 높을수록 재구매율이 높다는 결론을 내릴 수 있다.\n",
    "print(f'Spearman Correlation : {corr}, P-value : {p}')"
   ]
  },
  {
   "cell_type": "code",
   "execution_count": 19,
   "metadata": {},
   "outputs": [
    {
     "name": "stdout",
     "output_type": "stream",
     "text": [
      "평균 : 3.142857142857143, 분산 : 4.979591836734694\n"
     ]
    }
   ],
   "source": [
    "# 3. 양적데이터(수치데이터)의 통계적 접근 방법\n",
    "# 양적데이터는 평균, 분산, 회귀분석 등을 활용하여 분석\n",
    "# 3.1 이산데이터(Discrete Data)\n",
    "# 보통 정수값만 가짐\n",
    "# 평균, 분산 분석\n",
    "data=np.array([2,3,5,7,1,0,4])\n",
    "print(f'평균 : {np.mean(data)}, 분산 : {np.var(data)}')\n",
    "# 분산이 크면 데이터 값들이 평균에서 많이 벗어나 있다는 의미\n",
    "# 머신러닝, 딥러닝에서 데이터가 분산이 크면 학습이 잘 안되거나 발산(수렴반대말)이 발생할 수 있다."
   ]
  },
  {
   "cell_type": "code",
   "execution_count": 20,
   "metadata": {},
   "outputs": [
    {
     "name": "stdout",
     "output_type": "stream",
     "text": [
      "[0.04978707 0.14936121 0.22404181 0.22404181 0.16803136 0.10081881]\n"
     ]
    }
   ],
   "source": [
    "# 포아송분포(함수) : 특정 시간동안 발생하는 이벤트 횟수 예측\n",
    "# 예 : 1시간동안 고객 방문자 수 예측\n",
    "import scipy.stats as stats\n",
    "\n",
    "mu=3 # mu = 모집단(전체데이터) 평균\n",
    "data=[0,1,2,3,4,5] # 데이터\n",
    "poisson_dist=stats.poisson.pmf(data,mu)\n",
    "print(poisson_dist)"
   ]
  },
  {
   "cell_type": "code",
   "execution_count": 21,
   "metadata": {},
   "outputs": [
    {
     "name": "stdout",
     "output_type": "stream",
     "text": [
      "평균 : 170.0, 표준편차 : 7.0710678118654755, 분산 : 50.0\n"
     ]
    }
   ],
   "source": [
    "import numpy as np\n",
    "\n",
    "# 3.2 연속형 데이터(Continuous Data)\n",
    "# 소수점 포함\n",
    "# 평균, 분산, 표준편차 : 크면 데이터가 평균으로부터 넓게 퍼져 있음을 의미\n",
    "# 너무 과하면 학습이 잘 안된다.\n",
    "data=np.array([170,165,180,175,160]) # 키 데이터\n",
    "print(f'평균 : {np.mean(data)}, 표준편차 : {np.std(data)}, 분산 : {np.var(data)}')"
   ]
  },
  {
   "cell_type": "code",
   "execution_count": 22,
   "metadata": {},
   "outputs": [
    {
     "name": "stdout",
     "output_type": "stream",
     "text": [
      "p-value : 0.5078340737469579\n"
     ]
    }
   ],
   "source": [
    "# 정규분포 검정 : 데이터가 정규분포를 따르는지 안따르는지 여부\n",
    "from scipy.stats import shapiro\n",
    "\n",
    "data=np.random.normal(0,1,100) # 평균:0, 표준편차:1, 100개 데이터 생성\n",
    "stat, p = shapiro(data)\n",
    "print(f'p-value : {p}') # f(문자열:변수)\n",
    "# p-value < 0.05이면 데이터가 정규분포를 따르지 않음을 의미\n",
    "# 머신러닝은 데이터가 정규분포를 따른다는 가정하에 알고리즘들이 만들어져 있다. \n",
    "# 결국 데이터가 정규분포를 따르지 않으면 머신러닝 학습은 제대로 되지 않는다.\n",
    "# But 딥러닝은 다르다."
   ]
  },
  {
   "cell_type": "markdown",
   "metadata": {},
   "source": [
    "---\n",
    "##### 결론\n",
    "---\n",
    "\n",
    "1. 질적 데이터(명목형, 서열형) : 카이제곱 검정, 빈도분석, 순위상관분석 활용\n",
    "2. 양적 데이터(이산, 연속) : 평균, 분산, 정규성 검정, 회귀분석 등 활용\n",
    "3. 데이터 유형에 따라 적절한 통계적 접근 방법 선택해야 한다. "
   ]
  },
  {
   "cell_type": "markdown",
   "metadata": {},
   "source": [
    "---\n",
    "##### 결측치 처리\n",
    "---\n",
    "(머신러닝은 결측치가 있다고 해서 에러가 아님 but 딥러닝은 결측치가 있으면 에러)\n",
    "결측치(Missing Value)는 머신러닝 모델의 성능을 크게 저하시킬 수 있기 때문에 적절한 방법으로 처리해야 한다.\n",
    "\n",
    "- 타이타닉 데이터 결측치 확인\n",
    "- 결측치 처리 방법 "
   ]
  },
  {
   "cell_type": "code",
   "execution_count": 23,
   "metadata": {},
   "outputs": [
    {
     "data": {
      "text/html": [
       "<div>\n",
       "<style scoped>\n",
       "    .dataframe tbody tr th:only-of-type {\n",
       "        vertical-align: middle;\n",
       "    }\n",
       "\n",
       "    .dataframe tbody tr th {\n",
       "        vertical-align: top;\n",
       "    }\n",
       "\n",
       "    .dataframe thead th {\n",
       "        text-align: right;\n",
       "    }\n",
       "</style>\n",
       "<table border=\"1\" class=\"dataframe\">\n",
       "  <thead>\n",
       "    <tr style=\"text-align: right;\">\n",
       "      <th></th>\n",
       "      <th>PassengerId</th>\n",
       "      <th>Survived</th>\n",
       "      <th>Pclass</th>\n",
       "      <th>Name</th>\n",
       "      <th>Sex</th>\n",
       "      <th>Age</th>\n",
       "      <th>SibSp</th>\n",
       "      <th>Parch</th>\n",
       "      <th>Ticket</th>\n",
       "      <th>Fare</th>\n",
       "      <th>Cabin</th>\n",
       "      <th>Embarked</th>\n",
       "    </tr>\n",
       "  </thead>\n",
       "  <tbody>\n",
       "    <tr>\n",
       "      <th>0</th>\n",
       "      <td>1</td>\n",
       "      <td>0</td>\n",
       "      <td>3</td>\n",
       "      <td>Braund, Mr. Owen Harris</td>\n",
       "      <td>male</td>\n",
       "      <td>22.0</td>\n",
       "      <td>1</td>\n",
       "      <td>0</td>\n",
       "      <td>A/5 21171</td>\n",
       "      <td>7.2500</td>\n",
       "      <td>NaN</td>\n",
       "      <td>S</td>\n",
       "    </tr>\n",
       "    <tr>\n",
       "      <th>1</th>\n",
       "      <td>2</td>\n",
       "      <td>1</td>\n",
       "      <td>1</td>\n",
       "      <td>Cumings, Mrs. John Bradley (Florence Briggs Th...</td>\n",
       "      <td>female</td>\n",
       "      <td>38.0</td>\n",
       "      <td>1</td>\n",
       "      <td>0</td>\n",
       "      <td>PC 17599</td>\n",
       "      <td>71.2833</td>\n",
       "      <td>C85</td>\n",
       "      <td>C</td>\n",
       "    </tr>\n",
       "    <tr>\n",
       "      <th>2</th>\n",
       "      <td>3</td>\n",
       "      <td>1</td>\n",
       "      <td>3</td>\n",
       "      <td>Heikkinen, Miss. Laina</td>\n",
       "      <td>female</td>\n",
       "      <td>26.0</td>\n",
       "      <td>0</td>\n",
       "      <td>0</td>\n",
       "      <td>STON/O2. 3101282</td>\n",
       "      <td>7.9250</td>\n",
       "      <td>NaN</td>\n",
       "      <td>S</td>\n",
       "    </tr>\n",
       "    <tr>\n",
       "      <th>3</th>\n",
       "      <td>4</td>\n",
       "      <td>1</td>\n",
       "      <td>1</td>\n",
       "      <td>Futrelle, Mrs. Jacques Heath (Lily May Peel)</td>\n",
       "      <td>female</td>\n",
       "      <td>35.0</td>\n",
       "      <td>1</td>\n",
       "      <td>0</td>\n",
       "      <td>113803</td>\n",
       "      <td>53.1000</td>\n",
       "      <td>C123</td>\n",
       "      <td>S</td>\n",
       "    </tr>\n",
       "    <tr>\n",
       "      <th>4</th>\n",
       "      <td>5</td>\n",
       "      <td>0</td>\n",
       "      <td>3</td>\n",
       "      <td>Allen, Mr. William Henry</td>\n",
       "      <td>male</td>\n",
       "      <td>35.0</td>\n",
       "      <td>0</td>\n",
       "      <td>0</td>\n",
       "      <td>373450</td>\n",
       "      <td>8.0500</td>\n",
       "      <td>NaN</td>\n",
       "      <td>S</td>\n",
       "    </tr>\n",
       "  </tbody>\n",
       "</table>\n",
       "</div>"
      ],
      "text/plain": [
       "   PassengerId  Survived  Pclass  \\\n",
       "0            1         0       3   \n",
       "1            2         1       1   \n",
       "2            3         1       3   \n",
       "3            4         1       1   \n",
       "4            5         0       3   \n",
       "\n",
       "                                                Name     Sex   Age  SibSp  \\\n",
       "0                            Braund, Mr. Owen Harris    male  22.0      1   \n",
       "1  Cumings, Mrs. John Bradley (Florence Briggs Th...  female  38.0      1   \n",
       "2                             Heikkinen, Miss. Laina  female  26.0      0   \n",
       "3       Futrelle, Mrs. Jacques Heath (Lily May Peel)  female  35.0      1   \n",
       "4                           Allen, Mr. William Henry    male  35.0      0   \n",
       "\n",
       "   Parch            Ticket     Fare Cabin Embarked  \n",
       "0      0         A/5 21171   7.2500   NaN        S  \n",
       "1      0          PC 17599  71.2833   C85        C  \n",
       "2      0  STON/O2. 3101282   7.9250   NaN        S  \n",
       "3      0            113803  53.1000  C123        S  \n",
       "4      0            373450   8.0500   NaN        S  "
      ]
     },
     "execution_count": 23,
     "metadata": {},
     "output_type": "execute_result"
    }
   ],
   "source": [
    "# 타이타닉 데이터에서 결측치 확인\n",
    "# 데이터 로딩\n",
    "train_df=pd.read_csv('./data/train.csv')\n",
    "train_df.head()"
   ]
  },
  {
   "cell_type": "code",
   "execution_count": 24,
   "metadata": {},
   "outputs": [
    {
     "data": {
      "text/plain": [
       "PassengerId    0.000000\n",
       "Survived       0.000000\n",
       "Pclass         0.000000\n",
       "Name           0.000000\n",
       "Sex            0.000000\n",
       "Age            0.198653\n",
       "SibSp          0.000000\n",
       "Parch          0.000000\n",
       "Ticket         0.000000\n",
       "Fare           0.000000\n",
       "Cabin          0.771044\n",
       "Embarked       0.002245\n",
       "dtype: float64"
      ]
     },
     "execution_count": 24,
     "metadata": {},
     "output_type": "execute_result"
    }
   ],
   "source": [
    "# 결측치 확인\n",
    "missing_value=train_df.isnull().sum() / 891 #(전체개수) // 퍼센테지로 나온다.\n",
    "missing_value"
   ]
  },
  {
   "cell_type": "code",
   "execution_count": 25,
   "metadata": {},
   "outputs": [],
   "source": [
    "# Age(나이)가 20%정도 빠진거다."
   ]
  },
  {
   "cell_type": "code",
   "execution_count": 26,
   "metadata": {},
   "outputs": [],
   "source": [
    "# 결측치 시각화\n",
    "import missingno as msno"
   ]
  },
  {
   "cell_type": "code",
   "execution_count": 27,
   "metadata": {},
   "outputs": [
    {
     "data": {
      "text/plain": [
       "<Axes: >"
      ]
     },
     "execution_count": 27,
     "metadata": {},
     "output_type": "execute_result"
    },
    {
     "data": {
      "image/png": "[encoded data removed]",
      "text/plain": [
       "<Figure size 2500x1000 with 2 Axes>"
      ]
     },
     "metadata": {},
     "output_type": "display_data"
    }
   ],
   "source": [
    "msno.matrix(train_df)\n",
    "# 어느위치에 데이터가 없는지 확인하기가 쉽다."
   ]
  },
  {
   "cell_type": "code",
   "execution_count": 28,
   "metadata": {},
   "outputs": [
    {
     "data": {
      "text/plain": [
       "<Axes: >"
      ]
     },
     "execution_count": 28,
     "metadata": {},
     "output_type": "execute_result"
    },
    {
     "data": {
      "image/png": "[encoded data removed]",
      "text/plain": [
       "<Figure size 2500x1000 with 3 Axes>"
      ]
     },
     "metadata": {},
     "output_type": "display_data"
    }
   ],
   "source": [
    "msno.bar(train_df)"
   ]
  },
  {
   "cell_type": "code",
   "execution_count": 29,
   "metadata": {},
   "outputs": [],
   "source": [
    "# 2. 결측치 처리 방법\n",
    "# 결측치 비율\n",
    "# 5% 이하 : 전체 최빈값, 전체 평균값, 전체 중앙값으로 대체\n",
    "# 5~30% : 특정(컬럼)그룹별 평균값, 중앙값으로 대체(예. Pclass별 Age 평균 대체)\n",
    "# 30% 이상 : 삭제하거나, 새로운 범주 생성(예. cabin의 경우 'No Cabin'처럼 새로운 범주값을 추가)"
   ]
  },
  {
   "cell_type": "code",
   "execution_count": 30,
   "metadata": {},
   "outputs": [
    {
     "data": {
      "text/plain": [
       "np.int64(0)"
      ]
     },
     "execution_count": 30,
     "metadata": {},
     "output_type": "execute_result"
    }
   ],
   "source": [
    "# 나이(Age) 결측치 처리\n",
    "# 방법1 : 전체 평균 또는 중앙값으로 대체 => 일단 올바른 방법은 아니다.\n",
    "# 장점 : 빠르고 간단한 방법\n",
    "# 단점 : 나이의 분포(함수)를 왜곡할 수 있다. // 나중에 예측모델도 오류가 생길 수 있다.\n",
    "# 전체 평균으로 대체\n",
    "train_df['Age'].fillna(train_df['Age'].mean(), inplace=False).isnull().sum()\n",
    "# 전체 중위값으로 대체\n",
    "train_df['Age'].fillna(train_df['Age'].median(), inplace=False).isnull().sum()"
   ]
  },
  {
   "cell_type": "markdown",
   "metadata": {},
   "source": [
    "---\n",
    "#### 판다스 groupby() function\n",
    "---\n",
    "\n",
    "groupby 함수는 데이터프레임에서 특정 기주으로 데이터를 그룹화하고 그룹별 연산을 수행할 수 있는 핵심 기능\n",
    "\n",
    "- 기본 문법\n",
    "    df.groupby('그룹핑할 컬럼').연산()\n",
    "        - 연산 : sum(), mean(), count(), filter()"
   ]
  },
  {
   "cell_type": "code",
   "execution_count": 31,
   "metadata": {},
   "outputs": [
    {
     "name": "stdout",
     "output_type": "stream",
     "text": [
      "    부서   직원   급여  보너스\n",
      "0   영업  김철수  500   50\n",
      "1   영업  이영희  550   55\n",
      "2  마케팅  박민수  620   60\n",
      "3  마케팅  최지훈  700   70\n",
      "4   인사  한지수  450   45\n",
      "5   인사  정해인  480   48\n",
      "6   인사  오세훈  500   50\n"
     ]
    }
   ],
   "source": [
    "import numpy as np\n",
    "import pandas as pd\n",
    "import matplotlib.pyplot as plt\n",
    "import seaborn as sns\n",
    "# 예제 데이터 생성\n",
    "data = {\n",
    "    \"부서\": [\"영업\", \"영업\", \"마케팅\", \"마케팅\", \"인사\", \"인사\", \"인사\"],\n",
    "    \"직원\": [\"김철수\", \"이영희\", \"박민수\", \"최지훈\", \"한지수\", \"정해인\", \"오세훈\"],\n",
    "    \"급여\": [500, 550, 620, 700, 450, 480, 500],\n",
    "    \"보너스\": [50, 55, 60, 70, 45, 48, 50]\n",
    "}\n",
    "df = pd.DataFrame(data)\n",
    "print(df)"
   ]
  },
  {
   "cell_type": "code",
   "execution_count": 32,
   "metadata": {},
   "outputs": [
    {
     "data": {
      "text/plain": [
       "부서\n",
       "마케팅    1320\n",
       "영업     1050\n",
       "인사     1430\n",
       "Name: 급여, dtype: int64"
      ]
     },
     "execution_count": 32,
     "metadata": {},
     "output_type": "execute_result"
    }
   ],
   "source": [
    "# 요건 : 부서별 급여 합\n",
    "# df.groupby('부서') 부서별 그룹핑 오브젝트\n",
    "df.groupby('부서').sum()['급여']\n"
   ]
  },
  {
   "cell_type": "code",
   "execution_count": 33,
   "metadata": {},
   "outputs": [
    {
     "data": {
      "text/plain": [
       "부서\n",
       "마케팅    1320\n",
       "영업     1050\n",
       "인사     1430\n",
       "Name: 급여, dtype: int64"
      ]
     },
     "execution_count": 33,
     "metadata": {},
     "output_type": "execute_result"
    }
   ],
   "source": [
    "df.groupby('부서')['급여'].sum()\n",
    "# 이게 더 속도가 빠르다"
   ]
  },
  {
   "cell_type": "code",
   "execution_count": 34,
   "metadata": {},
   "outputs": [
    {
     "data": {
      "text/plain": [
       "부서\n",
       "마케팅    660.000000\n",
       "영업     525.000000\n",
       "인사     476.666667\n",
       "Name: 급여, dtype: float64"
      ]
     },
     "execution_count": 34,
     "metadata": {},
     "output_type": "execute_result"
    }
   ],
   "source": [
    "# 부서별 평균 급여\n",
    "df.groupby('부서')['급여'].mean()"
   ]
  },
  {
   "cell_type": "code",
   "execution_count": 35,
   "metadata": {},
   "outputs": [
    {
     "data": {
      "text/html": [
       "<div>\n",
       "<style scoped>\n",
       "    .dataframe tbody tr th:only-of-type {\n",
       "        vertical-align: middle;\n",
       "    }\n",
       "\n",
       "    .dataframe tbody tr th {\n",
       "        vertical-align: top;\n",
       "    }\n",
       "\n",
       "    .dataframe thead th {\n",
       "        text-align: right;\n",
       "    }\n",
       "</style>\n",
       "<table border=\"1\" class=\"dataframe\">\n",
       "  <thead>\n",
       "    <tr style=\"text-align: right;\">\n",
       "      <th></th>\n",
       "      <th></th>\n",
       "      <th>급여</th>\n",
       "      <th>보너스</th>\n",
       "    </tr>\n",
       "    <tr>\n",
       "      <th>부서</th>\n",
       "      <th>직원</th>\n",
       "      <th></th>\n",
       "      <th></th>\n",
       "    </tr>\n",
       "  </thead>\n",
       "  <tbody>\n",
       "    <tr>\n",
       "      <th rowspan=\"2\" valign=\"top\">마케팅</th>\n",
       "      <th>박민수</th>\n",
       "      <td>620</td>\n",
       "      <td>60</td>\n",
       "    </tr>\n",
       "    <tr>\n",
       "      <th>최지훈</th>\n",
       "      <td>700</td>\n",
       "      <td>70</td>\n",
       "    </tr>\n",
       "    <tr>\n",
       "      <th rowspan=\"2\" valign=\"top\">영업</th>\n",
       "      <th>김철수</th>\n",
       "      <td>500</td>\n",
       "      <td>50</td>\n",
       "    </tr>\n",
       "    <tr>\n",
       "      <th>이영희</th>\n",
       "      <td>550</td>\n",
       "      <td>55</td>\n",
       "    </tr>\n",
       "    <tr>\n",
       "      <th rowspan=\"3\" valign=\"top\">인사</th>\n",
       "      <th>오세훈</th>\n",
       "      <td>500</td>\n",
       "      <td>50</td>\n",
       "    </tr>\n",
       "    <tr>\n",
       "      <th>정해인</th>\n",
       "      <td>480</td>\n",
       "      <td>48</td>\n",
       "    </tr>\n",
       "    <tr>\n",
       "      <th>한지수</th>\n",
       "      <td>450</td>\n",
       "      <td>45</td>\n",
       "    </tr>\n",
       "  </tbody>\n",
       "</table>\n",
       "</div>"
      ],
      "text/plain": [
       "          급여  보너스\n",
       "부서  직원           \n",
       "마케팅 박민수  620   60\n",
       "    최지훈  700   70\n",
       "영업  김철수  500   50\n",
       "    이영희  550   55\n",
       "인사  오세훈  500   50\n",
       "    정해인  480   48\n",
       "    한지수  450   45"
      ]
     },
     "execution_count": 35,
     "metadata": {},
     "output_type": "execute_result"
    }
   ],
   "source": [
    "# 다중 컬럼으로 그룹핑\n",
    "df.groupby(['부서','직원'])[['급여','보너스']].sum()"
   ]
  },
  {
   "cell_type": "code",
   "execution_count": 36,
   "metadata": {},
   "outputs": [
    {
     "data": {
      "text/html": [
       "<div>\n",
       "<style scoped>\n",
       "    .dataframe tbody tr th:only-of-type {\n",
       "        vertical-align: middle;\n",
       "    }\n",
       "\n",
       "    .dataframe tbody tr th {\n",
       "        vertical-align: top;\n",
       "    }\n",
       "\n",
       "    .dataframe thead th {\n",
       "        text-align: right;\n",
       "    }\n",
       "</style>\n",
       "<table border=\"1\" class=\"dataframe\">\n",
       "  <thead>\n",
       "    <tr style=\"text-align: right;\">\n",
       "      <th></th>\n",
       "      <th>부서</th>\n",
       "      <th>급여</th>\n",
       "      <th>보너스</th>\n",
       "    </tr>\n",
       "  </thead>\n",
       "  <tbody>\n",
       "    <tr>\n",
       "      <th>0</th>\n",
       "      <td>마케팅</td>\n",
       "      <td>1320</td>\n",
       "      <td>130</td>\n",
       "    </tr>\n",
       "    <tr>\n",
       "      <th>1</th>\n",
       "      <td>영업</td>\n",
       "      <td>1050</td>\n",
       "      <td>105</td>\n",
       "    </tr>\n",
       "    <tr>\n",
       "      <th>2</th>\n",
       "      <td>인사</td>\n",
       "      <td>1430</td>\n",
       "      <td>143</td>\n",
       "    </tr>\n",
       "  </tbody>\n",
       "</table>\n",
       "</div>"
      ],
      "text/plain": [
       "    부서    급여  보너스\n",
       "0  마케팅  1320  130\n",
       "1   영업  1050  105\n",
       "2   인사  1430  143"
      ]
     },
     "execution_count": 36,
     "metadata": {},
     "output_type": "execute_result"
    }
   ],
   "source": [
    "# 인덱스(부서)를 컬럼으로 보내기\n",
    "# 인덱스에 표시한 named index를 다시 컬럼으로 보내기\n",
    "# reset_index()\n",
    "# df.groupby('부서')[['급여','보너스']]\n",
    "df.groupby('부서')[['급여','보너스']].sum().reset_index()"
   ]
  },
  {
   "cell_type": "code",
   "execution_count": 37,
   "metadata": {},
   "outputs": [
    {
     "data": {
      "text/html": [
       "<div>\n",
       "<style scoped>\n",
       "    .dataframe tbody tr th:only-of-type {\n",
       "        vertical-align: middle;\n",
       "    }\n",
       "\n",
       "    .dataframe tbody tr th {\n",
       "        vertical-align: top;\n",
       "    }\n",
       "\n",
       "    .dataframe thead th {\n",
       "        text-align: right;\n",
       "    }\n",
       "</style>\n",
       "<table border=\"1\" class=\"dataframe\">\n",
       "  <thead>\n",
       "    <tr style=\"text-align: right;\">\n",
       "      <th></th>\n",
       "      <th>부서</th>\n",
       "      <th>직원</th>\n",
       "      <th>급여</th>\n",
       "      <th>보너스</th>\n",
       "    </tr>\n",
       "  </thead>\n",
       "  <tbody>\n",
       "    <tr>\n",
       "      <th>0</th>\n",
       "      <td>영업</td>\n",
       "      <td>김철수</td>\n",
       "      <td>500</td>\n",
       "      <td>50</td>\n",
       "    </tr>\n",
       "    <tr>\n",
       "      <th>1</th>\n",
       "      <td>영업</td>\n",
       "      <td>이영희</td>\n",
       "      <td>550</td>\n",
       "      <td>55</td>\n",
       "    </tr>\n",
       "    <tr>\n",
       "      <th>2</th>\n",
       "      <td>마케팅</td>\n",
       "      <td>박민수</td>\n",
       "      <td>620</td>\n",
       "      <td>60</td>\n",
       "    </tr>\n",
       "    <tr>\n",
       "      <th>3</th>\n",
       "      <td>마케팅</td>\n",
       "      <td>최지훈</td>\n",
       "      <td>700</td>\n",
       "      <td>70</td>\n",
       "    </tr>\n",
       "  </tbody>\n",
       "</table>\n",
       "</div>"
      ],
      "text/plain": [
       "    부서   직원   급여  보너스\n",
       "0   영업  김철수  500   50\n",
       "1   영업  이영희  550   55\n",
       "2  마케팅  박민수  620   60\n",
       "3  마케팅  최지훈  700   70"
      ]
     },
     "execution_count": 37,
     "metadata": {},
     "output_type": "execute_result"
    }
   ],
   "source": [
    "# 그룹별 필터링(filter)\n",
    "# 특정 조건을 만족하는 그룹만 선택\n",
    "# 부서별 급여의 평균이 500이상인 부서와 데이터 출력\n",
    "# x: Dataframegroupby\n",
    "df.groupby('부서').filter(lambda x:x['급여'].mean() > 500)\n"
   ]
  },
  {
   "cell_type": "code",
   "execution_count": 38,
   "metadata": {},
   "outputs": [
    {
     "data": {
      "text/html": [
       "<div>\n",
       "<style scoped>\n",
       "    .dataframe tbody tr th:only-of-type {\n",
       "        vertical-align: middle;\n",
       "    }\n",
       "\n",
       "    .dataframe tbody tr th {\n",
       "        vertical-align: top;\n",
       "    }\n",
       "\n",
       "    .dataframe thead th {\n",
       "        text-align: right;\n",
       "    }\n",
       "</style>\n",
       "<table border=\"1\" class=\"dataframe\">\n",
       "  <thead>\n",
       "    <tr style=\"text-align: right;\">\n",
       "      <th></th>\n",
       "      <th>부서</th>\n",
       "      <th>직원</th>\n",
       "      <th>급여</th>\n",
       "      <th>보너스</th>\n",
       "      <th>급여_평균</th>\n",
       "    </tr>\n",
       "  </thead>\n",
       "  <tbody>\n",
       "    <tr>\n",
       "      <th>0</th>\n",
       "      <td>영업</td>\n",
       "      <td>김철수</td>\n",
       "      <td>500</td>\n",
       "      <td>50</td>\n",
       "      <td>525.000000</td>\n",
       "    </tr>\n",
       "    <tr>\n",
       "      <th>1</th>\n",
       "      <td>영업</td>\n",
       "      <td>이영희</td>\n",
       "      <td>550</td>\n",
       "      <td>55</td>\n",
       "      <td>525.000000</td>\n",
       "    </tr>\n",
       "    <tr>\n",
       "      <th>2</th>\n",
       "      <td>마케팅</td>\n",
       "      <td>박민수</td>\n",
       "      <td>620</td>\n",
       "      <td>60</td>\n",
       "      <td>660.000000</td>\n",
       "    </tr>\n",
       "    <tr>\n",
       "      <th>3</th>\n",
       "      <td>마케팅</td>\n",
       "      <td>최지훈</td>\n",
       "      <td>700</td>\n",
       "      <td>70</td>\n",
       "      <td>660.000000</td>\n",
       "    </tr>\n",
       "    <tr>\n",
       "      <th>4</th>\n",
       "      <td>인사</td>\n",
       "      <td>한지수</td>\n",
       "      <td>450</td>\n",
       "      <td>45</td>\n",
       "      <td>476.666667</td>\n",
       "    </tr>\n",
       "    <tr>\n",
       "      <th>5</th>\n",
       "      <td>인사</td>\n",
       "      <td>정해인</td>\n",
       "      <td>480</td>\n",
       "      <td>48</td>\n",
       "      <td>476.666667</td>\n",
       "    </tr>\n",
       "    <tr>\n",
       "      <th>6</th>\n",
       "      <td>인사</td>\n",
       "      <td>오세훈</td>\n",
       "      <td>500</td>\n",
       "      <td>50</td>\n",
       "      <td>476.666667</td>\n",
       "    </tr>\n",
       "  </tbody>\n",
       "</table>\n",
       "</div>"
      ],
      "text/plain": [
       "    부서   직원   급여  보너스       급여_평균\n",
       "0   영업  김철수  500   50  525.000000\n",
       "1   영업  이영희  550   55  525.000000\n",
       "2  마케팅  박민수  620   60  660.000000\n",
       "3  마케팅  최지훈  700   70  660.000000\n",
       "4   인사  한지수  450   45  476.666667\n",
       "5   인사  정해인  480   48  476.666667\n",
       "6   인사  오세훈  500   50  476.666667"
      ]
     },
     "execution_count": 38,
     "metadata": {},
     "output_type": "execute_result"
    }
   ],
   "source": [
    "# 그룹별 변환(transform)\n",
    "df['급여_평균']=df.groupby('부서')['급여'].transform('mean')\n",
    "df"
   ]
  },
  {
   "cell_type": "code",
   "execution_count": 39,
   "metadata": {},
   "outputs": [
    {
     "data": {
      "text/plain": [
       "부서\n",
       "마케팅    80\n",
       "영업     50\n",
       "인사     50\n",
       "Name: 급여, dtype: int64"
      ]
     },
     "execution_count": 39,
     "metadata": {},
     "output_type": "execute_result"
    }
   ],
   "source": [
    "# 그룹별 사용자 정의 함수 적용 apply()\n",
    "# 요건 : 부서별 최대급여와 최소급여 차이\n",
    "df.groupby('부서')['급여'].apply(lambda x: x.max() - x.min())\n"
   ]
  },
  {
   "cell_type": "code",
   "execution_count": 40,
   "metadata": {},
   "outputs": [
    {
     "data": {
      "text/plain": [
       "np.int64(0)"
      ]
     },
     "execution_count": 40,
     "metadata": {},
     "output_type": "execute_result"
    }
   ],
   "source": [
    "# 결측치 대체 : fillna()\n",
    "# 방법2 Pclass 별 평균 나이로 대체\n",
    "train_age = \\\n",
    "    train_df.groupby('Pclass')['Age'].transform(lambda x:x.fillna(x.mean()))\n",
    "train_age.isnull().sum()"
   ]
  },
  {
   "cell_type": "code",
   "execution_count": null,
   "metadata": {},
   "outputs": [
    {
     "data": {
      "text/html": [
       "<div>\n",
       "<style scoped>\n",
       "    .dataframe tbody tr th:only-of-type {\n",
       "        vertical-align: middle;\n",
       "    }\n",
       "\n",
       "    .dataframe tbody tr th {\n",
       "        vertical-align: top;\n",
       "    }\n",
       "\n",
       "    .dataframe thead th {\n",
       "        text-align: right;\n",
       "    }\n",
       "</style>\n",
       "<table border=\"1\" class=\"dataframe\">\n",
       "  <thead>\n",
       "    <tr style=\"text-align: right;\">\n",
       "      <th></th>\n",
       "      <th>Age</th>\n",
       "      <th>Pclass</th>\n",
       "      <th>SibSp</th>\n",
       "      <th>Parch</th>\n",
       "      <th>Fare</th>\n",
       "    </tr>\n",
       "  </thead>\n",
       "  <tbody>\n",
       "    <tr>\n",
       "      <th>0</th>\n",
       "      <td>22.0</td>\n",
       "      <td>3</td>\n",
       "      <td>1</td>\n",
       "      <td>0</td>\n",
       "      <td>7.2500</td>\n",
       "    </tr>\n",
       "    <tr>\n",
       "      <th>1</th>\n",
       "      <td>38.0</td>\n",
       "      <td>1</td>\n",
       "      <td>1</td>\n",
       "      <td>0</td>\n",
       "      <td>71.2833</td>\n",
       "    </tr>\n",
       "    <tr>\n",
       "      <th>2</th>\n",
       "      <td>26.0</td>\n",
       "      <td>3</td>\n",
       "      <td>0</td>\n",
       "      <td>0</td>\n",
       "      <td>7.9250</td>\n",
       "    </tr>\n",
       "    <tr>\n",
       "      <th>3</th>\n",
       "      <td>35.0</td>\n",
       "      <td>1</td>\n",
       "      <td>1</td>\n",
       "      <td>0</td>\n",
       "      <td>53.1000</td>\n",
       "    </tr>\n",
       "    <tr>\n",
       "      <th>4</th>\n",
       "      <td>35.0</td>\n",
       "      <td>3</td>\n",
       "      <td>0</td>\n",
       "      <td>0</td>\n",
       "      <td>8.0500</td>\n",
       "    </tr>\n",
       "    <tr>\n",
       "      <th>...</th>\n",
       "      <td>...</td>\n",
       "      <td>...</td>\n",
       "      <td>...</td>\n",
       "      <td>...</td>\n",
       "      <td>...</td>\n",
       "    </tr>\n",
       "    <tr>\n",
       "      <th>886</th>\n",
       "      <td>27.0</td>\n",
       "      <td>2</td>\n",
       "      <td>0</td>\n",
       "      <td>0</td>\n",
       "      <td>13.0000</td>\n",
       "    </tr>\n",
       "    <tr>\n",
       "      <th>887</th>\n",
       "      <td>19.0</td>\n",
       "      <td>1</td>\n",
       "      <td>0</td>\n",
       "      <td>0</td>\n",
       "      <td>30.0000</td>\n",
       "    </tr>\n",
       "    <tr>\n",
       "      <th>888</th>\n",
       "      <td>NaN</td>\n",
       "      <td>3</td>\n",
       "      <td>1</td>\n",
       "      <td>2</td>\n",
       "      <td>23.4500</td>\n",
       "    </tr>\n",
       "    <tr>\n",
       "      <th>889</th>\n",
       "      <td>26.0</td>\n",
       "      <td>1</td>\n",
       "      <td>0</td>\n",
       "      <td>0</td>\n",
       "      <td>30.0000</td>\n",
       "    </tr>\n",
       "    <tr>\n",
       "      <th>890</th>\n",
       "      <td>32.0</td>\n",
       "      <td>3</td>\n",
       "      <td>0</td>\n",
       "      <td>0</td>\n",
       "      <td>7.7500</td>\n",
       "    </tr>\n",
       "  </tbody>\n",
       "</table>\n",
       "<p>891 rows × 5 columns</p>\n",
       "</div>"
      ],
      "text/plain": [
       "      Age  Pclass  SibSp  Parch     Fare\n",
       "0    22.0       3      1      0   7.2500\n",
       "1    38.0       1      1      0  71.2833\n",
       "2    26.0       3      0      0   7.9250\n",
       "3    35.0       1      1      0  53.1000\n",
       "4    35.0       3      0      0   8.0500\n",
       "..    ...     ...    ...    ...      ...\n",
       "886  27.0       2      0      0  13.0000\n",
       "887  19.0       1      0      0  30.0000\n",
       "888   NaN       3      1      2  23.4500\n",
       "889  26.0       1      0      0  30.0000\n",
       "890  32.0       3      0      0   7.7500\n",
       "\n",
       "[891 rows x 5 columns]"
      ]
     },
     "execution_count": 41,
     "metadata": {},
     "output_type": "execute_result"
    }
   ],
   "source": [
    "# 방법 3 : 머신러닝 알고리즘을 이용해서 결측치값을 예측하고 대체 \n",
    "# 장점 : 데이터 패턴을 학습하여 더 정밀한 값으로 대체 모델의 성능 향상 기대 가능\n",
    "# 단점 : 시간이 걸린다, 반드시 성능 향상을 기대하면 안된다.\n",
    "# Age를 예측하는 모델을 만들어서 결측값을 채울 수 있다.\n",
    "# RandomForest (분류, 회귀(나이: 연속값))\n",
    "from sklearn.ensemble import RandomForestRegressor\n",
    "\n",
    "# 나이 예측에 필요한 컬럼(변수, 피처) 선택\n",
    "age_data=train_df[['Age','Pclass','SibSp','Parch','Fare']]\n",
    "# age_data.shape => (891, 5)\n",
    "age_data"
   ]
  },
  {
   "cell_type": "code",
   "execution_count": null,
   "metadata": {},
   "outputs": [
    {
     "data": {
      "text/plain": [
       "(177, 4)"
      ]
     },
     "execution_count": 44,
     "metadata": {},
     "output_type": "execute_result"
    }
   ],
   "source": [
    "# 결측치가 없는 행 : 학습데이터로 사용, 결측치 행 삭제해서 추출 = dropna()\n",
    "train_no_missing=age_data.dropna() # 결측치를 삭제하라는 뜻\n",
    "train_no_missing.shape # (714, 5) \n",
    "\n",
    "# 결측치가 있는 행 : 예측나이 추출 \n",
    "# 결측치가 있는 행을 찾자 : Boolean\n",
    "# age_data['Age'].isnull() # True인게 null // return = dataframe\n",
    "# age_data[age_data['Age'].isnull()] # null인게 true // 177개 나옴\n",
    "# 나이 예측에 사용할 데이터 => 대체 \n",
    "train_missing = age_data[age_data['Age'].isnull()].drop('Age', axis=1)\n",
    "train_missing.shape # (177, 4)"
   ]
  },
  {
   "cell_type": "code",
   "execution_count": null,
   "metadata": {},
   "outputs": [],
   "source": [
    "# 학습데이터를 데이터(4개컬럼)와 답(나이)으로 분리\n",
    "# 대문자 = 행렬, 소문자 = 벡터\n",
    "# 학습데이터 = X\n",
    "X_train=train_no_missing.drop('Age', axis=1, inplace=False) # 삭제하고 나머지 반환\n",
    "# 답(나이컬럼) 추출\n",
    "y_train=train_no_missing['Age']\n",
    "\n",
    "# 모델 생성\n",
    "# n_estimators=100 , random_state=42\n",
    "model=RandomForestRegressor(n_estimators=100, random_state=42)\n",
    "# 학습 끝나면 모델(함수, 오차가 최소가 되는 식) 완성\n",
    "# model.fit() => 학습시키는 함수\n",
    "model.fit(X_train, y_train)\n",
    "\n",
    "# 나이의 결측치를 채울 예측 나이 추출 후 대체\n",
    "# 예측\n",
    "# model.predict() => 예측값 뽑아내주는 함수, model.predict(train_missing) => 예측 나이 추출\n",
    "train_df.loc[train_df['Age'].isnull(), 'Age'] = model.predict(train_missing)\n",
    "# train_df['Age'].isnull(), 'Age' // ['Age'].isnull() = 헹, 'Age' = 열 // loc = 네임드컬럼이용"
   ]
  },
  {
   "cell_type": "code",
   "execution_count": null,
   "metadata": {},
   "outputs": [
    {
     "data": {
      "text/plain": [
       "<Axes: >"
      ]
     },
     "execution_count": 47,
     "metadata": {},
     "output_type": "execute_result"
    },
    {
     "data": {
      "image/png": "[encoded data removed]",
      "text/plain": [
       "<Figure size 2500x1000 with 2 Axes>"
      ]
     },
     "metadata": {},
     "output_type": "display_data"
    }
   ],
   "source": [
    "msno.matrix(train_df)\n",
    "# 나이가 꽉 차버렸다!!!!!!!!!!!!!!!"
   ]
  },
  {
   "cell_type": "code",
   "execution_count": null,
   "metadata": {},
   "outputs": [],
   "source": []
  }
 ],
 "metadata": {
  "kernelspec": {
   "display_name": "dataproc",
   "language": "python",
   "name": "python3"
  },
  "language_info": {
   "codemirror_mode": {
    "name": "ipython",
    "version": 3
   },
   "file_extension": ".py",
   "mimetype": "text/x-python",
   "name": "python",
   "nbconvert_exporter": "python",
   "pygments_lexer": "ipython3",
   "version": "3.10.16"
  }
 },
 "nbformat": 4,
 "nbformat_minor": 2
}
