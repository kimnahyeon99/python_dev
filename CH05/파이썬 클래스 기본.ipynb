{
 "cells": [
  {
   "cell_type": "code",
   "execution_count": 8,
   "metadata": {},
   "outputs": [],
   "source": [
    "class Programmer: # 아무것도 없다\n",
    "    pass"
   ]
  },
  {
   "cell_type": "code",
   "execution_count": 9,
   "metadata": {},
   "outputs": [
    {
     "name": "stdout",
     "output_type": "stream",
     "text": [
      "4422673808 4422670688\n"
     ]
    }
   ],
   "source": [
    "#\n",
    "kim = Programmer()\n",
    "park = Programmer()\n",
    "print(id(kim), id(park)) # id() : object 주소 반환"
   ]
  },
  {
   "cell_type": "code",
   "execution_count": 7,
   "metadata": {},
   "outputs": [
    {
     "name": "stdout",
     "output_type": "stream",
     "text": [
      "hong\n",
      "park\n"
     ]
    }
   ],
   "source": [
    "# 생성된 object에 변수 추가 : 동적 할당\n",
    "kim.name = 'hong'\n",
    "park.name = 'park'\n",
    "print(kim.name)\n",
    "print(park.name)"
   ]
  },
  {
   "cell_type": "code",
   "execution_count": 10,
   "metadata": {},
   "outputs": [],
   "source": [
    "# Service class 생성\n",
    "# 정보 공유 Service를 하는 클래스 선언\n",
    "# 클래스 변수 : 오브젝트들이 공유하기 위한 목적\n",
    "\n",
    "class Service:\n",
    "    secret = '영구는 외계인이다' # self가 없다 => 클래스 변수\n",
    "    "
   ]
  },
  {
   "cell_type": "code",
   "execution_count": 13,
   "metadata": {},
   "outputs": [],
   "source": [
    "# 오브젝트 생성\n",
    "pey = Service()\n",
    "kim = Service()"
   ]
  },
  {
   "cell_type": "code",
   "execution_count": null,
   "metadata": {},
   "outputs": [
    {
     "name": "stdout",
     "output_type": "stream",
     "text": [
      "영구는 외계인이다\n",
      "영구는 외계인이다\n",
      "영구는 외계인이다\n"
     ]
    }
   ],
   "source": [
    "print(pey.secret) # 레퍼런스변수로 접근\n",
    "print(kim.secret)\n",
    "print(Service.secret) # 일반적으로 접근"
   ]
  },
  {
   "cell_type": "code",
   "execution_count": 17,
   "metadata": {},
   "outputs": [
    {
     "name": "stdout",
     "output_type": "stream",
     "text": [
      "영구는 도깨비다\n",
      "영구는 도깨비다\n",
      "영구는 도깨비다\n"
     ]
    }
   ],
   "source": [
    "# secret 클래스의 변수 => get/set 된다 => attribute\n",
    "Service.secret = '영구는 도깨비다'\n",
    "print(pey.secret)\n",
    "print(kim.secret)\n",
    "print(Service.secret)"
   ]
  },
  {
   "cell_type": "code",
   "execution_count": 27,
   "metadata": {},
   "outputs": [],
   "source": [
    "# 메소드\n",
    "class Service:\n",
    "    secret = '영구는 외계인이다.'\n",
    "    \n",
    "    #class의 메소드 선언\n",
    "    def sum(a,b): # 두 정수를 받아서 더하기 \n",
    "        result = a + b\n",
    "        return f'클래스 메소드의 결과 {a} + {b} = {result}입니다.'\n",
    "        \n",
    "    # object의 메소드    \n",
    "    def sum_(self, a,b) : # 두 정수를 받아서 더하기\n",
    "        result = a + b\n",
    "        return f'오브젝트 메소드의 결과 {a} + {b} = {result}입니다.'"
   ]
  },
  {
   "cell_type": "code",
   "execution_count": null,
   "metadata": {},
   "outputs": [
    {
     "name": "stdout",
     "output_type": "stream",
     "text": [
      "오브젝트 메소드의 결과 1 + 1 = 2입니다.\n",
      "클래스 메소드의 결과 1 + 1 = 2입니다.\n",
      "오브젝트 메소드의 결과 1 + 1 = 2입니다.\n"
     ]
    }
   ],
   "source": [
    "pey = Service()\n",
    "# def sum_(self, a,b)\n",
    "print(pey.sum_(1,1)) # object 메소드 접근\n",
    "\n",
    "def sum(a,b)\n",
    "print(Service.sum(1,1)) # class 메소드 접근\n",
    "\n",
    "# def sum_(self, a,b)\n",
    "print(Service.sum_(pey,1,1)) # object 메소드 접근"
   ]
  },
  {
   "cell_type": "code",
   "execution_count": 29,
   "metadata": {},
   "outputs": [],
   "source": [
    "# name : 고객 이름 저장 멤버 변수 선언 사용\n",
    "class Service:\n",
    "    secret = '영구는 외계인이다'\n",
    "    \n",
    "    # 메소드에 self를 주는 이유는 오브젝트에 접근\n",
    "    # name : 받아서 오브젝트에 대입\n",
    "    def setName(self, name):\n",
    "        self.name = name\n",
    "        \n",
    "    # 이름 님 1 + 1 = 2입니다.\n",
    "    def sum(self,a,b): # self가 필요해서 넣어줌\n",
    "        result = a + b\n",
    "        return f'{self.name}님 {a} + {b} = {result}입니다.'    \n",
    "    "
   ]
  },
  {
   "cell_type": "code",
   "execution_count": null,
   "metadata": {},
   "outputs": [
    {
     "name": "stdout",
     "output_type": "stream",
     "text": [
      "고길동\n"
     ]
    }
   ],
   "source": [
    "pey = Service()\n",
    "# setName 호출 : 호출안하면 self.name 실행이 안된다.\n",
    "pey.setName('홍길동') # self.name 생성성\n",
    "# sum() 호출\n",
    "# def sum_(self, a,b)\n",
    "# name은 public하다\n",
    "pey.name = '고길동' # set\n",
    "print(pey.name) # get\n",
    "# pey.sum(1,1)"
   ]
  },
  {
   "cell_type": "code",
   "execution_count": null,
   "metadata": {},
   "outputs": [
    {
     "name": "stdout",
     "output_type": "stream",
     "text": [
      "김철수\n",
      "박응용\n"
     ]
    }
   ],
   "source": [
    "# 멤버 변수를 동적으로 생성\n",
    "kim = Service()\n",
    "# kim.setName('김철수') 실행 안하면 name이 없다.\n",
    "kim.name = '김철수' # set\n",
    "print(kim.name)   # get => print\n",
    "\n",
    "park = Service()\n",
    "park.name = '박응용' # set\n",
    "print(park.name)   # get => print"
   ]
  },
  {
   "cell_type": "code",
   "execution_count": null,
   "metadata": {},
   "outputs": [
    {
     "ename": "AttributeError",
     "evalue": "'Service' object has no attribute 'name'",
     "output_type": "error",
     "traceback": [
      "\u001b[0;31m---------------------------------------------------------------------------\u001b[0m",
      "\u001b[0;31mAttributeError\u001b[0m                            Traceback (most recent call last)",
      "Cell \u001b[0;32mIn[34], line 3\u001b[0m\n\u001b[1;32m      1\u001b[0m hong \u001b[38;5;241m=\u001b[39m Service()\n\u001b[0;32m----> 3\u001b[0m \u001b[43mhong\u001b[49m\u001b[38;5;241;43m.\u001b[39;49m\u001b[43msum\u001b[49m\u001b[43m(\u001b[49m\u001b[38;5;241;43m1\u001b[39;49m\u001b[43m,\u001b[49m\u001b[38;5;241;43m2\u001b[39;49m\u001b[43m)\u001b[49m\n",
      "Cell \u001b[0;32mIn[29], line 13\u001b[0m, in \u001b[0;36mService.sum\u001b[0;34m(self, a, b)\u001b[0m\n\u001b[1;32m     11\u001b[0m \u001b[38;5;28;01mdef\u001b[39;00m \u001b[38;5;21msum\u001b[39m(\u001b[38;5;28mself\u001b[39m,a,b): \u001b[38;5;66;03m# self가 필요해서 넣어줌\u001b[39;00m\n\u001b[1;32m     12\u001b[0m     result \u001b[38;5;241m=\u001b[39m a \u001b[38;5;241m+\u001b[39m b\n\u001b[0;32m---> 13\u001b[0m     \u001b[38;5;28;01mreturn\u001b[39;00m \u001b[38;5;124mf\u001b[39m\u001b[38;5;124m'\u001b[39m\u001b[38;5;132;01m{\u001b[39;00m\u001b[38;5;28mself\u001b[39m\u001b[38;5;241m.\u001b[39mname\u001b[38;5;132;01m}\u001b[39;00m\u001b[38;5;124m님 \u001b[39m\u001b[38;5;132;01m{\u001b[39;00ma\u001b[38;5;132;01m}\u001b[39;00m\u001b[38;5;124m + \u001b[39m\u001b[38;5;132;01m{\u001b[39;00mb\u001b[38;5;132;01m}\u001b[39;00m\u001b[38;5;124m = \u001b[39m\u001b[38;5;132;01m{\u001b[39;00mresult\u001b[38;5;132;01m}\u001b[39;00m\u001b[38;5;124m입니다.\u001b[39m\u001b[38;5;124m'\u001b[39m\n",
      "\u001b[0;31mAttributeError\u001b[0m: 'Service' object has no attribute 'name'"
     ]
    }
   ],
   "source": [
    "hong = Service()\n",
    "# Error : sum하기 전에 setName을 반드시 실행해야 한다.\n",
    "# name 멤버 변수를 생성해야 하기 때문이다.\n",
    "hong.sum(1,2)"
   ]
  },
  {
   "cell_type": "code",
   "execution_count": 40,
   "metadata": {},
   "outputs": [],
   "source": [
    "# 생성자 : __init__() : name이라는 변수 생성, 초기화\n",
    "class Service:\n",
    "    secret = '영구는 외계인이다'\n",
    "    \n",
    "    def __init__(self, name): # 메소드다\n",
    "        self.name = name # name 변수 생성, 초기화\n",
    "        \n",
    "    def sum(self,a,b):\n",
    "        result = a + b\n",
    "        return f'{self.name}님 {a} + {b} = {result}입니다.'\n"
   ]
  },
  {
   "cell_type": "code",
   "execution_count": 41,
   "metadata": {},
   "outputs": [],
   "source": [
    "hong = Service('홍길동')"
   ]
  },
  {
   "cell_type": "code",
   "execution_count": 42,
   "metadata": {},
   "outputs": [
    {
     "name": "stdout",
     "output_type": "stream",
     "text": [
      "홍길동\n"
     ]
    }
   ],
   "source": [
    "print(hong.name)"
   ]
  },
  {
   "cell_type": "code",
   "execution_count": 43,
   "metadata": {},
   "outputs": [
    {
     "name": "stdout",
     "output_type": "stream",
     "text": [
      "홍길동님 3 + 4 = 7입니다.\n"
     ]
    }
   ],
   "source": [
    "# sum(self,a,b)\n",
    "print(hong.sum(3,4))"
   ]
  },
  {
   "cell_type": "code",
   "execution_count": null,
   "metadata": {},
   "outputs": [],
   "source": []
  }
 ],
 "metadata": {
  "kernelspec": {
   "display_name": "firstenv",
   "language": "python",
   "name": "python3"
  },
  "language_info": {
   "codemirror_mode": {
    "name": "ipython",
    "version": 3
   },
   "file_extension": ".py",
   "mimetype": "text/x-python",
   "name": "python",
   "nbconvert_exporter": "python",
   "pygments_lexer": "ipython3",
   "version": "3.10.16"
  }
 },
 "nbformat": 4,
 "nbformat_minor": 2
}
