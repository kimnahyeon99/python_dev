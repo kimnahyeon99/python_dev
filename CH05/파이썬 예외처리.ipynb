{
 "cells": [
  {
   "cell_type": "code",
   "execution_count": null,
   "metadata": {},
   "outputs": [],
   "source": [
    "# 예외 발생 상황 코드\n",
    "# 1. 없는 파일을 읽기\n",
    "f = open('나없는파일.txt','r')"
   ]
  },
  {
   "cell_type": "code",
   "execution_count": null,
   "metadata": {},
   "outputs": [],
   "source": [
    "# 0으로 나눌 경우\n",
    "4/0"
   ]
  },
  {
   "cell_type": "code",
   "execution_count": null,
   "metadata": {},
   "outputs": [],
   "source": [
    "# 리스트 인덱스 범위를 벗어나는 경우\n",
    "a = [1,2,3]\n",
    "a[6]"
   ]
  },
  {
   "cell_type": "code",
   "execution_count": null,
   "metadata": {},
   "outputs": [],
   "source": [
    "try:\n",
    "    a = [1,2,3]\n",
    "    print(a[6])\n",
    "except IndexError : \n",
    "    print('인덱스 에러')\n",
    "    \n",
    "print('정상 종료')"
   ]
  },
  {
   "cell_type": "code",
   "execution_count": null,
   "metadata": {},
   "outputs": [],
   "source": [
    "#FileNotFoundError\n",
    "a = [1,2,3]\n",
    "try:\n",
    "    f = open('mod1.py', 'r')\n",
    "    print(a[7])\n",
    "except FileNotFoundError:\n",
    "    print('파일없다')\n",
    "except IndexError:\n",
    "     print('인덱스에러')\n",
    "# 파일이 존재해야 아래 코드 실행 가능\n",
    "else: # 파일이 존재할 경우\n",
    "#만약 파일 존재했다면 읽기 처리 코드\n",
    "    f.close()\n",
    "finally: # 에러가 발생하든 안하든 항상 실행되는 코드\n",
    "    print('정상종료')"
   ]
  },
  {
   "cell_type": "code",
   "execution_count": null,
   "metadata": {},
   "outputs": [],
   "source": [
    "#FileNotFoundError\n",
    "a = [1,2,3]\n",
    "try:\n",
    "    f = open('mod1.py', 'r')\n",
    "    print(a[7])\n",
    "except FileNotFoundError as e:\n",
    "    print('파일없다')\n",
    "    print(e) # 에러 메세지가 들어있다\n",
    "except IndexError as e:\n",
    "     print('인덱스에러')\n",
    "     print(e)\n",
    "# 파일이 존재해야 아래 코드 실행 가능\n",
    "else: # 파일이 존재할 경우\n",
    "#만약 파일 존재했다면 읽기 처리 코드\n",
    "    f.close()\n",
    "finally: # 에러가 발생하든 안하든 항상 실행되는 코드\n",
    "    print('정상종료')"
   ]
  },
  {
   "cell_type": "code",
   "execution_count": null,
   "metadata": {},
   "outputs": [],
   "source": []
  },
  {
   "cell_type": "code",
   "execution_count": null,
   "metadata": {},
   "outputs": [],
   "source": [
    "from abc import ABC, abstractmethod\n",
    "\n",
    "class Bird:\n",
    "    @abstractmethod\n",
    "    def fly(self):\n",
    "        pass\n",
    "        # raise NotImplemented\n",
    "        # return '난다'\n",
    "        \n",
    "class Eagle(Bird):\n",
    "    # 오버라이딩 처리\n",
    "    def fly(self):\n",
    "        return '빠르게 난다.'\n",
    "    \n",
    "class Penguin(Bird):\n",
    "    # 오버라이딩 처리\n",
    "    def fly(self):\n",
    "        return '펭귄은 날지 못한다.'\n"
   ]
  },
  {
   "cell_type": "code",
   "execution_count": null,
   "metadata": {},
   "outputs": [],
   "source": [
    "a = Penguin()\n",
    "a.fly()"
   ]
  },
  {
   "cell_type": "code",
   "execution_count": null,
   "metadata": {},
   "outputs": [],
   "source": [
    "b = Eagle()\n",
    "# b = Penguin()\n",
    "b.fly()"
   ]
  },
  {
   "cell_type": "code",
   "execution_count": null,
   "metadata": {},
   "outputs": [],
   "source": [
    "def fly_test(bird):\n",
    "    print(bird.fly())"
   ]
  },
  {
   "cell_type": "code",
   "execution_count": null,
   "metadata": {},
   "outputs": [],
   "source": [
    "fly_test(Eagle())\n",
    "fly_test(Penguin())"
   ]
  },
  {
   "cell_type": "code",
   "execution_count": null,
   "metadata": {},
   "outputs": [],
   "source": [
    "def fly_test(bird):\n",
    "    print(bird.fly())\n",
    "\n",
    "def print_(func,bird):\n",
    "    print('='*20)\n",
    "    func(bird)\n",
    "    print('='*20)\n",
    "\n",
    "print_(fly_test,Eagle())\n",
    "print_(fly_test,Penguin())"
   ]
  },
  {
   "cell_type": "code",
   "execution_count": null,
   "metadata": {},
   "outputs": [],
   "source": [
    "# 1. 타입 어노테이션 : 3.5버전에 도입\n",
    "# 타입 힌팅\n",
    "# 사람 클래스 : 이름, 나이 <= 멤버 변수 : self로 선언하려면 메소드 사용\n",
    "class Person:\n",
    "    # 멤버 변수\n",
    "    name:str\n",
    "    age:int\n",
    "    \n",
    "    # 생성자 초기값\n",
    "    def __init__(self, name:str, age:int) -> None:\n",
    "        self.name = name\n",
    "        self.age = age\n",
    "        \n",
    "    # 생성 후 변경시 사용\n",
    "    def setName(self,name:str) -> None:\n",
    "        self.name = name\n",
    "    \n",
    "    def setAge(self, age:int) -> None:\n",
    "        self.age = age"
   ]
  },
  {
   "cell_type": "code",
   "execution_count": null,
   "metadata": {},
   "outputs": [],
   "source": [
    "# 학생 정보 처리 클래스\n",
    "# 3과목(List), 3과목 점수(Tuple), 특성(이름, 주소)\n",
    "from typing import List, Dict, Tuple\n",
    "\n",
    "class Student:\n",
    "    grades:List[str]\n",
    "    info:Dict[str,str]\n",
    "    scores:Tuple[int,int,int]\n",
    "\n",
    "def __init__ (self) -> None:\n",
    "    self.grades = ['국어', '영어', '수학']\n",
    "    self.info = {'name':'홍길동', '주소':'서울'}\n",
    "    self.scores = (90,90,90)"
   ]
  },
  {
   "cell_type": "code",
   "execution_count": null,
   "metadata": {},
   "outputs": [],
   "source": [
    "# 회사 사원 클래스 : 상사사원번호(manager), 사원번호(id)\n",
    "from typing import Optional, Union\n",
    "\n",
    "class Employee:\n",
    "    manager:str # 상사번호 반드시 문자열이어야 한다. NULL이면 안된다.\n",
    "    manager:Optional[str] # 상사번호 반드시 문자열이어야 한다. NULL이 가능\n",
    "    id:Union[int,str] #숫자일수도 있고 문자열일수도 있다.\n",
    "    \n",
    "    # 생성자\n",
    "    def __init__(self, manager:Optional[str], id:Union[int,str]) -> None:\n",
    "        self.manager = manager\n",
    "        self.id=id"
   ]
  },
  {
   "cell_type": "code",
   "execution_count": null,
   "metadata": {},
   "outputs": [],
   "source": [
    "# 클래스 데코레이터(Class Decorators)\n",
    "# @staticmethod : 클래스의 메소드 선언\n",
    "\n",
    "class Math:\n",
    "    @staticmethod\n",
    "    def add(a:int,b:int) -> int:\n",
    "        return a + b"
   ]
  },
  {
   "cell_type": "code",
   "execution_count": null,
   "metadata": {},
   "outputs": [],
   "source": [
    "a = Math()\n",
    "# a.add(1,1)\n",
    "Math.add(1,1)"
   ]
  },
  {
   "cell_type": "code",
   "execution_count": null,
   "metadata": {},
   "outputs": [],
   "source": [
    "# 멤버변수 선언 : self\n",
    "# name, age => setName(), setAge() 만들어야 한다.\n",
    "# @property : @getter, @setter, @deleter\n",
    "# 원 처리하는 클래스 선언\n",
    "class Circle:\n",
    "    def __init__(self, radius:float) -> None:\n",
    "        self.radius = radius\n",
    "    \n",
    "    @property\n",
    "    def radius(self) -> float:\n",
    "        return self.radius\n",
    "    \n",
    "    @radius.setter\n",
    "    def radius(self, value:float) -> None:\n",
    "        if value >= 0:\n",
    "            self.radius = value\n",
    "        \n",
    "    "
   ]
  },
  {
   "cell_type": "code",
   "execution_count": null,
   "metadata": {},
   "outputs": [],
   "source": [
    "circle = Circle(3.0)\n",
    "circle.radius = 5.0"
   ]
  },
  {
   "cell_type": "markdown",
   "metadata": {},
   "source": [
    "# 2.21 금"
   ]
  },
  {
   "cell_type": "code",
   "execution_count": 1,
   "metadata": {},
   "outputs": [],
   "source": [
    "# 오류 만들기\n",
    "class MyError(Exception):\n",
    "    pass\n"
   ]
  },
  {
   "cell_type": "code",
   "execution_count": 2,
   "metadata": {},
   "outputs": [],
   "source": [
    "# 함수 선언\n",
    "def say_nick(nick):\n",
    "    if nick == '바보':\n",
    "        raise MyError()\n",
    "    \n",
    "    print(nick)"
   ]
  },
  {
   "cell_type": "code",
   "execution_count": 3,
   "metadata": {},
   "outputs": [
    {
     "name": "stdout",
     "output_type": "stream",
     "text": [
      "천사\n"
     ]
    }
   ],
   "source": [
    "say_nick('천사')"
   ]
  },
  {
   "cell_type": "code",
   "execution_count": 4,
   "metadata": {},
   "outputs": [
    {
     "name": "stdout",
     "output_type": "stream",
     "text": [
      "천사\n",
      "허용안된다\n"
     ]
    }
   ],
   "source": [
    "try:\n",
    "    say_nick('천사')\n",
    "    say_nick('바보')\n",
    "except MyError:\n",
    "    print('허용안된다')"
   ]
  },
  {
   "cell_type": "code",
   "execution_count": 5,
   "metadata": {},
   "outputs": [],
   "source": [
    "class MyError(Exception):\n",
    "    def __init__(self, msg):\n",
    "        self.msg = msg\n",
    "        \n",
    "    # msg 출력\n",
    "    def __str__(self):\n",
    "        return self.msg\n",
    "    "
   ]
  },
  {
   "cell_type": "code",
   "execution_count": 11,
   "metadata": {},
   "outputs": [
    {
     "name": "stdout",
     "output_type": "stream",
     "text": [
      "허용 안된다\n"
     ]
    }
   ],
   "source": [
    "def say_nick(nick):\n",
    "    if nick == '바보':\n",
    "        raise MyError('허용 안된다')\n",
    "    \n",
    "    print(nick)\n",
    "try:\n",
    "    say_nick('바보')\n",
    "except MyError as e:\n",
    "    # print(e.__str__())\n",
    "    print(e)"
   ]
  },
  {
   "cell_type": "code",
   "execution_count": null,
   "metadata": {},
   "outputs": [],
   "source": []
  }
 ],
 "metadata": {
  "kernelspec": {
   "display_name": "firstenv",
   "language": "python",
   "name": "python3"
  },
  "language_info": {
   "codemirror_mode": {
    "name": "ipython",
    "version": 3
   },
   "file_extension": ".py",
   "mimetype": "text/x-python",
   "name": "python",
   "nbconvert_exporter": "python",
   "pygments_lexer": "ipython3",
   "version": "3.10.16"
  }
 },
 "nbformat": 4,
 "nbformat_minor": 2
}
