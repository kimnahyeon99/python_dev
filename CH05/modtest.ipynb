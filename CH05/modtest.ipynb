{
 "cells": [
  {
   "cell_type": "markdown",
   "metadata": {},
   "source": [
    "# 2.20 목"
   ]
  },
  {
   "cell_type": "code",
   "execution_count": 1,
   "metadata": {},
   "outputs": [
    {
     "data": {
      "text/plain": [
       "['/opt/anaconda3/envs/firstenv/lib/python310.zip',\n",
       " '/opt/anaconda3/envs/firstenv/lib/python3.10',\n",
       " '/opt/anaconda3/envs/firstenv/lib/python3.10/lib-dynload',\n",
       " '',\n",
       " '/opt/anaconda3/envs/firstenv/lib/python3.10/site-packages',\n",
       " '/opt/anaconda3/envs/firstenv/lib/python3.10/site-packages/setuptools/_vendor']"
      ]
     },
     "execution_count": 1,
     "metadata": {},
     "output_type": "execute_result"
    }
   ],
   "source": [
    "# 라이브러리 관리하는 환경변수 값들을 확인\n",
    "import sys\n",
    "\n",
    "sys.path\n"
   ]
  },
  {
   "cell_type": "code",
   "execution_count": null,
   "metadata": {},
   "outputs": [],
   "source": [
    "sys.path.append(/Users/kimnahyeon/Desktop/big19/python_dev/CH05/Users/kimnahyeon/Desktop/big19/python_dev/CH05)"
   ]
  }
 ],
 "metadata": {
  "kernelspec": {
   "display_name": "firstenv",
   "language": "python",
   "name": "python3"
  },
  "language_info": {
   "codemirror_mode": {
    "name": "ipython",
    "version": 3
   },
   "file_extension": ".py",
   "mimetype": "text/x-python",
   "name": "python",
   "nbconvert_exporter": "python",
   "pygments_lexer": "ipython3",
   "version": "3.10.16"
  }
 },
 "nbformat": 4,
 "nbformat_minor": 2
}
