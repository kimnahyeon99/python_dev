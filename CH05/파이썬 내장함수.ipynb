{
 "cells": [
  {
   "cell_type": "markdown",
   "metadata": {},
   "source": [
    "# 2.21 금"
   ]
  },
  {
   "cell_type": "code",
   "execution_count": 4,
   "metadata": {},
   "outputs": [
    {
     "name": "stdout",
     "output_type": "stream",
     "text": [
      "홍길동고길동둘리(0, '홍길동') 둘리(1, '고길동') 둘리(2, '둘리') 둘리"
     ]
    }
   ],
   "source": [
    "# enumerate function\n",
    "for name in ['홍길동', '고길동', '둘리']:\n",
    "    print(name, end='')\n",
    "    \n",
    "for idx in enumerate (['홍길동', '고길동', '둘리']):\n",
    "    print(idx,name,end='')"
   ]
  },
  {
   "cell_type": "code",
   "execution_count": 5,
   "metadata": {},
   "outputs": [],
   "source": [
    "# filter function\n",
    "# 요건 : 양수 추출\n",
    "def positive(list_):\n",
    "    # 결과 저장 빈 리스트\n",
    "    result = [] \n",
    "    for number in list_:\n",
    "        if number > 0: # 양수면\n",
    "            result.append(number)\n",
    "    return result\n",
    "    "
   ]
  },
  {
   "cell_type": "code",
   "execution_count": 6,
   "metadata": {},
   "outputs": [
    {
     "data": {
      "text/plain": [
       "[1, 2, 6]"
      ]
     },
     "execution_count": 6,
     "metadata": {},
     "output_type": "execute_result"
    }
   ],
   "source": [
    "positive([1,-3,2,0,-5,6])"
   ]
  },
  {
   "cell_type": "code",
   "execution_count": 8,
   "metadata": {},
   "outputs": [],
   "source": [
    "def positive(number): # 단일값 입력\n",
    "    return number > 0 # 비교연산자 사용 => boolean(True, False)"
   ]
  },
  {
   "cell_type": "code",
   "execution_count": 10,
   "metadata": {},
   "outputs": [
    {
     "data": {
      "text/plain": [
       "[1, 2, 6]"
      ]
     },
     "execution_count": 10,
     "metadata": {},
     "output_type": "execute_result"
    }
   ],
   "source": [
    "# filter(functino, iterable) -> iterable\n",
    "# function : 단일값 입력, boolean return\n",
    "# filter(positive, [1,-3,2,0,-5,6]) => filter object\n",
    "list(filter(positive, [1,-3,2,0,-5,6]))"
   ]
  },
  {
   "cell_type": "code",
   "execution_count": null,
   "metadata": {},
   "outputs": [
    {
     "data": {
      "text/plain": [
       "[1, 2, 3]"
      ]
     },
     "execution_count": 11,
     "metadata": {},
     "output_type": "execute_result"
    }
   ],
   "source": [
    "def positive(number): # 간단하다 => lamda 키워드 : 간단한 함수\n",
    "    return number > 0\n",
    "\n",
    "list(filter(positive, [1,2,3]))"
   ]
  },
  {
   "cell_type": "code",
   "execution_count": null,
   "metadata": {},
   "outputs": [
    {
     "data": {
      "text/plain": [
       "[1, 2, 3]"
      ]
     },
     "execution_count": 12,
     "metadata": {},
     "output_type": "execute_result"
    }
   ],
   "source": [
    "# lamda : 익명의 함수 생성, 익명 : 이름이 없다, 1회성 함수 생성\n",
    "# 문법 : lambda 아규먼트 : 식\n",
    "# def positive(number):\n",
    "#     return number > 0\n",
    "# lambda number : number > 0\n",
    "list(filter(lambda number:number>0, [1,2,3]))\n"
   ]
  },
  {
   "cell_type": "code",
   "execution_count": 6,
   "metadata": {},
   "outputs": [],
   "source": [
    "# lambda 사용해야 할때? = def 사용 못할 때\n",
    "def sum(a,b):\n",
    "    return a + b\n"
   ]
  },
  {
   "cell_type": "code",
   "execution_count": 7,
   "metadata": {},
   "outputs": [],
   "source": [
    "def mul(a,b):\n",
    "    return a * b"
   ]
  },
  {
   "cell_type": "code",
   "execution_count": 8,
   "metadata": {},
   "outputs": [
    {
     "data": {
      "text/plain": [
       "[3, 12]"
      ]
     },
     "execution_count": 8,
     "metadata": {},
     "output_type": "execute_result"
    }
   ],
   "source": [
    "myList = [sum(1,2), mul(3,4)]\n",
    "myList"
   ]
  },
  {
   "cell_type": "code",
   "execution_count": 12,
   "metadata": {},
   "outputs": [
    {
     "name": "stdout",
     "output_type": "stream",
     "text": [
      "3\n",
      "2\n"
     ]
    }
   ],
   "source": [
    "# myList = [def sum(a,b), def mul(a,b)]\n",
    "# myList[0](1,2)\n",
    "myList = [lambda a,b:a+b, lambda a,b:a*b]\n",
    "print(myList[0](1,2))\n",
    "print(myList[1](1,2))"
   ]
  },
  {
   "cell_type": "code",
   "execution_count": 13,
   "metadata": {},
   "outputs": [
    {
     "name": "stdout",
     "output_type": "stream",
     "text": [
      "[2, 4, 6, 8]\n"
     ]
    }
   ],
   "source": [
    "# iterable 받아서 2 곱한 리스트 반환\n",
    "# 1. map 적용하지 않고\n",
    "# iterable 을 받아서 곱하기한 결과 반환 함수\n",
    "def two_times(numberList):\n",
    "    result = []\n",
    "    for number in numberList:\n",
    "        result.append(number*2)\n",
    "        \n",
    "    return result\n",
    "\n",
    "print(two_times([1,2,3,4]))"
   ]
  },
  {
   "cell_type": "code",
   "execution_count": 14,
   "metadata": {},
   "outputs": [
    {
     "data": {
      "text/plain": [
       "[2, 4, 6, 8]"
      ]
     },
     "execution_count": 14,
     "metadata": {},
     "output_type": "execute_result"
    }
   ],
   "source": [
    "# map function\n",
    "def two_times(number):\n",
    "    return number * 2\n",
    "\n",
    "list(map(two_times, [1,2,3,4]))"
   ]
  },
  {
   "cell_type": "code",
   "execution_count": 15,
   "metadata": {},
   "outputs": [
    {
     "data": {
      "text/plain": [
       "[2, 4, 6, 8]"
      ]
     },
     "execution_count": 15,
     "metadata": {},
     "output_type": "execute_result"
    }
   ],
   "source": [
    "# map, lambda\n",
    "list(map(lambda number : number*2, [1,2,3,4]))"
   ]
  },
  {
   "cell_type": "code",
   "execution_count": null,
   "metadata": {},
   "outputs": [
    {
     "name": "stdout",
     "output_type": "stream",
     "text": [
      "[1, 2, 3]\n",
      "[3, 2, 1]\n",
      "[2, 1, 3]\n"
     ]
    }
   ],
   "source": [
    "# sorted : 오름차순해서 리스트 반환한다.\n",
    "print(sorted([3,1,2]))\n",
    "\n",
    "# 내림차순\n",
    "print(sorted([3,1,2])[::-1]) # [start:end:step]\n",
    "print(([3,1,2])[::-1])"
   ]
  },
  {
   "cell_type": "code",
   "execution_count": 20,
   "metadata": {},
   "outputs": [
    {
     "data": {
      "text/plain": [
       "[('홍', 100), ('고', 90), ('둘', 20)]"
      ]
     },
     "execution_count": 20,
     "metadata": {},
     "output_type": "execute_result"
    }
   ],
   "source": [
    "name = ['홍','고','둘']\n",
    "scores = [100,90,20]\n",
    "list(zip(name,scores))"
   ]
  },
  {
   "cell_type": "code",
   "execution_count": null,
   "metadata": {},
   "outputs": [],
   "source": []
  }
 ],
 "metadata": {
  "kernelspec": {
   "display_name": "firstenv",
   "language": "python",
   "name": "python3"
  },
  "language_info": {
   "codemirror_mode": {
    "name": "ipython",
    "version": 3
   },
   "file_extension": ".py",
   "mimetype": "text/x-python",
   "name": "python",
   "nbconvert_exporter": "python",
   "pygments_lexer": "ipython3",
   "version": "3.10.16"
  }
 },
 "nbformat": 4,
 "nbformat_minor": 2
}
