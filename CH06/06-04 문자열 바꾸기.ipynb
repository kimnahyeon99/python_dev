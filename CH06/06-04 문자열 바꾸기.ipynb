{
 "cells": [
  {
   "cell_type": "code",
   "execution_count": 1,
   "metadata": {},
   "outputs": [],
   "source": [
    "import re"
   ]
  },
  {
   "cell_type": "code",
   "execution_count": 3,
   "metadata": {},
   "outputs": [
    {
     "name": "stdout",
     "output_type": "stream",
     "text": [
      "colour socks and colour shoes\n",
      "colour socks and red shoes\n"
     ]
    }
   ],
   "source": [
    "# 패턴 생성 문자열\n",
    "p_str = '(blue|white|red)'\n",
    "data = 'blue socks and red shoes'\n",
    "\n",
    "# 패턴 오브젝트 생성 (틀 생성)\n",
    "pat = re.compile(p_str)\n",
    "\n",
    "# pat.sub(변경할문자열, data) method : 패턴과 일치하는 문자열 변경\n",
    "print(pat.sub('colour',data))\n",
    "print(pat.sub('colour',data, count=1)) # count 바꿀 개수 지정\n"
   ]
  },
  {
   "cell_type": "code",
   "execution_count": 5,
   "metadata": {},
   "outputs": [
    {
     "data": {
      "text/plain": [
       "'010-1234-1234 park'"
      ]
     },
     "execution_count": 5,
     "metadata": {},
     "output_type": "execute_result"
    }
   ],
   "source": [
    "# sub 메소드 사용시 참조 구문 사용하기\n",
    "data = 'park 010-1234-1234'\n",
    "p_str = r'(?P<name>\\w+)\\s+(?P<phone>(\\d+)[-]\\d+[-]\\d+)'\n",
    "\n",
    "pat = re.compile(p_str)\n",
    "\n",
    "pat.sub('\\g<phone> \\g<name>',data)\n"
   ]
  },
  {
   "cell_type": "code",
   "execution_count": 10,
   "metadata": {},
   "outputs": [],
   "source": [
    "# sub 메소드의 입력인수(argument)에 함수 넣기\n",
    "# sub : 변경\n",
    "\n",
    "# 함수 : 특정 문자열에 있는 정수 찾아서 -> 16진수 변환해서 반환\n",
    "def hexrepl(match): # match object 받는 함수다\n",
    "    '''\n",
    "    특정 문자열에 있는 정수 찾아서 -> 16진수 변환해서 반환\n",
    "    parameter match : match object    \n",
    "    '''\n",
    "    value = int(match.group())\n",
    "    return hex(value)"
   ]
  },
  {
   "cell_type": "code",
   "execution_count": 11,
   "metadata": {},
   "outputs": [
    {
     "data": {
      "text/plain": [
       "'Call 0xffd2 for printing, 0xc000 for user code.'"
      ]
     },
     "execution_count": 11,
     "metadata": {},
     "output_type": "execute_result"
    }
   ],
   "source": [
    "p_str = '\\d+'\n",
    "data = 'Call 65490 for printing, 49152 for user code.'\n",
    "\n",
    "pat = re.compile(p_str)\n",
    "# pat.sub(함수, data)\n",
    "pat.sub(hexrepl, data)"
   ]
  },
  {
   "cell_type": "code",
   "execution_count": null,
   "metadata": {},
   "outputs": [],
   "source": []
  }
 ],
 "metadata": {
  "kernelspec": {
   "display_name": "firstenv",
   "language": "python",
   "name": "python3"
  },
  "language_info": {
   "codemirror_mode": {
    "name": "ipython",
    "version": 3
   },
   "file_extension": ".py",
   "mimetype": "text/x-python",
   "name": "python",
   "nbconvert_exporter": "python",
   "pygments_lexer": "ipython3",
   "version": "3.10.16"
  }
 },
 "nbformat": 4,
 "nbformat_minor": 2
}
