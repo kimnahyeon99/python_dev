{
 "cells": [
  {
   "cell_type": "code",
   "execution_count": null,
   "metadata": {},
   "outputs": [
    {
     "name": "stdout",
     "output_type": "stream",
     "text": [
      "None\n",
      "match가 없다\n",
      "['python']\n",
      "<re.Match object; span=(2, 8), match='python'>\n",
      "python\n"
     ]
    }
   ],
   "source": [
    "# match method\n",
    "import re\n",
    "\n",
    "# 패턴 생성 : compile() function => return pattern object\n",
    "p_str = '[a-z]+' # 소문자 1개 이상\n",
    "pat = re.compile(p_str)\n",
    "\n",
    "str_ = '3 python' # 매칭할 문자열\n",
    "\n",
    "m = pat.match(str_)\n",
    "s1 = pat.search(str_)\n",
    "f = pat.findall(str_)\n",
    "print(m) # match => return match object\n",
    "if m:\n",
    "    print(m.group())\n",
    "else:\n",
    "    print('match가 없다')\n",
    "print(f) # findall\n",
    "print(s1) # search => return match object\n",
    "print(s1.group()) "
   ]
  },
  {
   "cell_type": "code",
   "execution_count": null,
   "metadata": {},
   "outputs": [
    {
     "name": "stdout",
     "output_type": "stream",
     "text": [
      "['life', 'short']\n"
     ]
    }
   ],
   "source": [
    "# findall\n",
    "p_str = '[^a-z]+'\n",
    "p_str = '[a-z]{3,5}' \n",
    "p_str = '[a-z]{4,}'\n",
    "pat = re.compile(p_str)\n",
    "\n",
    "str_ = 'life-is-too-short'\n",
    "result = pat.findall(str_)\n",
    "print(result)"
   ]
  },
  {
   "cell_type": "code",
   "execution_count": 31,
   "metadata": {},
   "outputs": [
    {
     "name": "stdout",
     "output_type": "stream",
     "text": [
      "['python one', 'python two', 'python three']\n"
     ]
    }
   ],
   "source": [
    "import re\n",
    "\n",
    "p_str = '^python\\s\\w+'\n",
    "pat = re.compile(p_str, re.MULTILINE)\n",
    "\n",
    "data = '''python one\n",
    "life is too short\n",
    "python two\n",
    "you need python\n",
    "python three'''\n",
    "\n",
    "print(pat.findall(data))"
   ]
  },
  {
   "cell_type": "code",
   "execution_count": null,
   "metadata": {},
   "outputs": [],
   "source": []
  }
 ],
 "metadata": {
  "kernelspec": {
   "display_name": "firstenv",
   "language": "python",
   "name": "python3"
  },
  "language_info": {
   "codemirror_mode": {
    "name": "ipython",
    "version": 3
   },
   "file_extension": ".py",
   "mimetype": "text/x-python",
   "name": "python",
   "nbconvert_exporter": "python",
   "pygments_lexer": "ipython3",
   "version": "3.10.16"
  }
 },
 "nbformat": 4,
 "nbformat_minor": 2
}
