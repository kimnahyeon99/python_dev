{
 "cells": [
  {
   "cell_type": "code",
   "execution_count": 9,
   "metadata": {},
   "outputs": [
    {
     "name": "stdout",
     "output_type": "stream",
     "text": [
      "park 031-1234-1234\n",
      "park\n",
      "031-1234-1234\n",
      "031\n"
     ]
    }
   ],
   "source": [
    "# 연락처 문자열에서 이름만 추출\n",
    "# 'park 010-1234-1234' : \n",
    "# \\w+ : 알파벳 숫자 1개 이상 \n",
    "# \\s+ : 공백 1개 이상\n",
    "# 숫자(3자리)-숫자(4자리)-숫자(4자리)\n",
    "import re\n",
    "data = 'park 031-1234-1234' \n",
    "\n",
    "# 국번 ; 02, 031 \n",
    "p_str = '(?P<name>\\w+)\\s+((\\d{2,3})[-]\\d{4}[-]\\d{4})'\n",
    "\n",
    "pat = re.compile(p_str)\n",
    "m = pat.search(data)\n",
    "print(m.group())\n",
    "# print(m.group().split()[0])\n",
    "# print(m.group(1))\n",
    "print(m.group('name'))\n",
    "print(m.group(2))\n",
    "print(m.group(3))"
   ]
  },
  {
   "cell_type": "code",
   "execution_count": 10,
   "metadata": {},
   "outputs": [
    {
     "data": {
      "text/plain": [
       "'the the'"
      ]
     },
     "execution_count": 10,
     "metadata": {},
     "output_type": "execute_result"
    }
   ],
   "source": [
    "# 재참조\n",
    "# the the\n",
    "data = 'Paris in the the spring'\n",
    "p_str = r'(\\b\\w+)\\s+\\1'\n",
    "re.search(pattern=p_str, string=data).group()"
   ]
  },
  {
   "cell_type": "code",
   "execution_count": 11,
   "metadata": {},
   "outputs": [
    {
     "name": "stdout",
     "output_type": "stream",
     "text": [
      "http\n"
     ]
    }
   ],
   "source": [
    "# 전방 탐색\n",
    "pat = re.compile('.+:')\n",
    "m = pat.search('http://google.com')\n",
    "print(m.group()[:-1]) # http: => http만 추출"
   ]
  },
  {
   "cell_type": "code",
   "execution_count": 12,
   "metadata": {},
   "outputs": [
    {
     "name": "stdout",
     "output_type": "stream",
     "text": [
      "http://google.com\n"
     ]
    }
   ],
   "source": [
    "# 전방 탐색\n",
    "pat = re.compile('.+(?!:)')\n",
    "m = pat.search('http://google.com')\n",
    "print(m.group()) # http: => http만 추출"
   ]
  },
  {
   "cell_type": "code",
   "execution_count": 13,
   "metadata": {},
   "outputs": [],
   "source": [
    "# 예제\n",
    "# foo.bar, autoexec.bat, sendmail.cf\n",
    "# 파일명(알파벳, 숫자) + . + 확장자(알파벳, 숫자)\n",
    "# .*                [.]     .*$\n",
    "# .*[.].*$ // 이 패턴을 통과한 놈이\n",
    "# 위 파일에서 bat인 파일을 제외\n",
    "# .*[.][^b].*$ : bar도 포함된다. \n",
    "# .*[.]([^b]..|.[^a].|..[^t])$ cf 문제 발생\n",
    "# .*[.]([^b]..?|.[^a].|..[^t])$ => ? : {0,1}\n"
   ]
  },
  {
   "cell_type": "code",
   "execution_count": 14,
   "metadata": {},
   "outputs": [
    {
     "data": {
      "text/plain": [
       "['user1', 'user3']"
      ]
     },
     "execution_count": 14,
     "metadata": {},
     "output_type": "execute_result"
    }
   ],
   "source": [
    "# 메일 가운데 gmail 인 사원 추출\n",
    "email_data = 'user1@gmail.com user2@naver.com user3@gmail.com'\n",
    "# pattern = '\\w+@gmail[.]com'\n",
    "pattern = '\\w+(?=@gmail[.]com)'\n",
    "\n",
    "re.findall(pattern, email_data)"
   ]
  },
  {
   "cell_type": "code",
   "execution_count": 18,
   "metadata": {},
   "outputs": [
    {
     "data": {
      "text/plain": [
       "['test', 'test']"
      ]
     },
     "execution_count": 18,
     "metadata": {},
     "output_type": "execute_result"
    }
   ],
   "source": [
    "# 부정 전방 탐색\n",
    "# aaa가 뒤에 나오지 않는 test만 추출\n",
    "text = 'testaaa test123 test'\n",
    "pattern = 'test(?!aaa)'\n",
    "re.findall(pattern, text)"
   ]
  },
  {
   "cell_type": "code",
   "execution_count": 16,
   "metadata": {},
   "outputs": [
    {
     "data": {
      "text/plain": [
       "['word', 'word']"
      ]
     },
     "execution_count": 16,
     "metadata": {},
     "output_type": "execute_result"
    }
   ],
   "source": [
    "# 긍정 부정\n",
    "# word 다음에 123이 있는 경우만 찾되, 456은 제외\n",
    "data = 'word123 word456 word789 word123'\n",
    "pattern = 'word(?=123)(?!456)'\n",
    "\n",
    "re.findall(pattern, data)"
   ]
  },
  {
   "cell_type": "code",
   "execution_count": null,
   "metadata": {},
   "outputs": [],
   "source": []
  }
 ],
 "metadata": {
  "kernelspec": {
   "display_name": "firstenv",
   "language": "python",
   "name": "python3"
  },
  "language_info": {
   "codemirror_mode": {
    "name": "ipython",
    "version": 3
   },
   "file_extension": ".py",
   "mimetype": "text/x-python",
   "name": "python",
   "nbconvert_exporter": "python",
   "pygments_lexer": "ipython3",
   "version": "3.10.16"
  }
 },
 "nbformat": 4,
 "nbformat_minor": 2
}
