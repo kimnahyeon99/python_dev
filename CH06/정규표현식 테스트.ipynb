{
 "cells": [
  {
   "cell_type": "markdown",
   "metadata": {},
   "source": [
    "# 2.24 월"
   ]
  },
  {
   "cell_type": "code",
   "execution_count": 27,
   "metadata": {},
   "outputs": [
    {
     "data": {
      "text/plain": [
       "'\\npark 800905-1049118\\nkim 700905-1059119\\n'"
      ]
     },
     "execution_count": 27,
     "metadata": {},
     "output_type": "execute_result"
    }
   ],
   "source": [
    "data = '''\n",
    "park 800905-1049118\n",
    "kim 700905-1059119\n",
    "'''\n",
    "data\n"
   ]
  },
  {
   "cell_type": "code",
   "execution_count": null,
   "metadata": {},
   "outputs": [
    {
     "name": "stdout",
     "output_type": "stream",
     "text": [
      "['']\n",
      "['park', '800905-*******']\n",
      "['kim', '700905-*******']\n",
      "['']\n"
     ]
    }
   ],
   "source": [
    "# 정규 표현식 안썼을 때\n",
    "\n",
    "result = [] #결과저장리스트\n",
    "#문장 분리: \\n 분리\n",
    "for line in data.split('\\n'):\n",
    "    word_result = []\n",
    "    for word in line .split(' '):\n",
    "        if len(word) == 14 and word[:6].isdigit() and word[7:].isdigit():\n",
    "            word = word[:6] + '-*******'\n",
    "        word_result.append(word)\n",
    "    print(word_result)    \n",
    "   \n"
   ]
  },
  {
   "cell_type": "code",
   "execution_count": 14,
   "metadata": {},
   "outputs": [
    {
     "data": {
      "text/plain": [
       "'\\npark 8000905-1049118\\nkim 700905-1059119\\n'"
      ]
     },
     "execution_count": 14,
     "metadata": {},
     "output_type": "execute_result"
    }
   ],
   "source": [
    "data"
   ]
  },
  {
   "cell_type": "code",
   "execution_count": 17,
   "metadata": {},
   "outputs": [
    {
     "data": {
      "text/plain": [
       "'\\npark 8000905--1049118\\nkim 700905--1059119\\n'"
      ]
     },
     "execution_count": 17,
     "metadata": {},
     "output_type": "execute_result"
    }
   ],
   "source": [
    "import re\n",
    "pat = re.compile('(\\d{6})([-]\\d{7})') # () : 그룹으로 묶는다.\n",
    "pat.sub('\\g<1>-\\g<2>', data)"
   ]
  },
  {
   "cell_type": "code",
   "execution_count": null,
   "metadata": {},
   "outputs": [],
   "source": [
    "# 정규 표현식 안썼을 때\n",
    "\n",
    "result = [] #결과저장리스트\n",
    "#문장 분리: \\n 분리\n",
    "for line in data.split('\\n'):\n",
    "    word_result = []\n",
    "    for word in line .split(' '):\n",
    "        if len(word) == 14 and word[:6].isdigit() and word[7:].isdigit():\n",
    "            word = word[:6] + '-*******'\n",
    "        word_result.append(word)\n",
    "    print(word_result)    "
   ]
  },
  {
   "cell_type": "code",
   "execution_count": 7,
   "metadata": {},
   "outputs": [
    {
     "data": {
      "text/plain": [
       "'\\npark 800905-1049118\\nkim 700905-1059119\\n'"
      ]
     },
     "execution_count": 7,
     "metadata": {},
     "output_type": "execute_result"
    }
   ],
   "source": [
    "data = '''\n",
    "park 800905-1049118\n",
    "kim 700905-1059119\n",
    "'''\n",
    "data"
   ]
  },
  {
   "cell_type": "code",
   "execution_count": 8,
   "metadata": {},
   "outputs": [
    {
     "name": "stdout",
     "output_type": "stream",
     "text": [
      "['']\n",
      "['park', '800905-*******']\n",
      "['kim', '700905-*******']\n",
      "['']\n"
     ]
    }
   ],
   "source": [
    "result = []\n",
    "\n",
    "for line in data.split('\\n'):\n",
    "    word_result = []\n",
    "    for word in line. split(' '):\n",
    "        if len(word) == 14 and word[:6].isdigit() and word[7:].isdigit():\n",
    "            word = word[:6] + '-*******'\n",
    "        word_result.append(word)\n",
    "    print(word_result)"
   ]
  },
  {
   "cell_type": "code",
   "execution_count": null,
   "metadata": {},
   "outputs": [],
   "source": []
  }
 ],
 "metadata": {
  "kernelspec": {
   "display_name": "firstenv",
   "language": "python",
   "name": "python3"
  },
  "language_info": {
   "codemirror_mode": {
    "name": "ipython",
    "version": 3
   },
   "file_extension": ".py",
   "mimetype": "text/x-python",
   "name": "python",
   "nbconvert_exporter": "python",
   "pygments_lexer": "ipython3",
   "version": "3.10.16"
  }
 },
 "nbformat": 4,
 "nbformat_minor": 2
}
