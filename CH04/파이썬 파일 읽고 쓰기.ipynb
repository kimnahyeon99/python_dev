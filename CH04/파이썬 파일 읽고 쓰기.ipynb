{
 "cells": [
  {
   "cell_type": "markdown",
   "metadata": {},
   "source": [
    "# 2.18 화"
   ]
  },
  {
   "cell_type": "code",
   "execution_count": 1,
   "metadata": {},
   "outputs": [],
   "source": [
    "# 현재 디렉토리에 파일 생성\n",
    "# 1. open(파일명:new.txt, 모드:w)\n",
    "f = open('new.txt', 'w')\n",
    "# 2. close\n",
    "f.close()"
   ]
  },
  {
   "cell_type": "code",
   "execution_count": 3,
   "metadata": {},
   "outputs": [],
   "source": [
    "# text file 파일 쓰기(write mode)\n",
    "# 1. open\n",
    "# f = open(file='new.txt', mode='w') # keyword argument\n",
    "f = open('new.txt', 'w') # positional argument\n",
    "\n",
    "# 2. data => file write\n",
    "# data creation\n",
    "for num in range(1,6): # 5번 반복\n",
    "    data = f'{num}번째 줄\\n'\n",
    "    f.write(data) # 파일에 쓰기\n",
    "\n",
    "# 3. close\n",
    "f.close()"
   ]
  },
  {
   "cell_type": "code",
   "execution_count": 7,
   "metadata": {},
   "outputs": [
    {
     "name": "stdout",
     "output_type": "stream",
     "text": [
      "1번째 줄\n",
      "2번째 줄\n",
      "3번째 줄\n",
      "4번째 줄\n",
      "5번째 줄\n"
     ]
    }
   ],
   "source": [
    "# text file read\n",
    "# 1. open\n",
    "# f = open('new1.txt', 'r') => 파일이 없을 경우 에러 발생 // FileNotFountError\n",
    "f = open('new.txt', 'r')\n",
    "# 2. read\n",
    "# readLine() : 한줄씩 읽기\n",
    "while True:\n",
    "    line = f.readline()\n",
    "    if not line: # 없을 경우 False\n",
    "        break\n",
    "    print(line, end='')\n",
    "# 3. close\n",
    "f.close()"
   ]
  },
  {
   "cell_type": "code",
   "execution_count": 11,
   "metadata": {},
   "outputs": [
    {
     "name": "stdout",
     "output_type": "stream",
     "text": [
      "['1번째 줄\\n', '2번째 줄\\n', '3번째 줄\\n', '4번째 줄\\n', '5번째 줄\\n']\n",
      "1번째 줄\n",
      "2번째 줄\n",
      "3번째 줄\n",
      "4번째 줄\n",
      "5번째 줄\n"
     ]
    }
   ],
   "source": [
    "# readLines() => 전체 읽기\n",
    "# , 한줄씩 문자로 만들어서 리스트 반환\n",
    "\n",
    "# 1. open\n",
    "f = open('new.txt', 'r')\n",
    "# 2. readlines\n",
    "lines = f.readlines()\n",
    "print(lines)\n",
    "for line in lines:\n",
    "    print(line, end='')\n",
    "# 3. close\n",
    "f.close()"
   ]
  },
  {
   "cell_type": "code",
   "execution_count": 14,
   "metadata": {},
   "outputs": [
    {
     "data": {
      "text/plain": [
       "['1번째 줄', '2번째 줄', '3번째 줄', '4번째 줄', '5번째 줄', '']"
      ]
     },
     "execution_count": 14,
     "metadata": {},
     "output_type": "execute_result"
    }
   ],
   "source": [
    "# read()\n",
    "f = open('new.txt', 'r')\n",
    "data = f.read()\n",
    "f.close()\n",
    "data = data.split('\\n')\n",
    "data"
   ]
  },
  {
   "cell_type": "code",
   "execution_count": null,
   "metadata": {},
   "outputs": [
    {
     "name": "stdout",
     "output_type": "stream",
     "text": [
      "['1번째 줄\\n', '2번째 줄\\n', '3번째 줄\\n', '4번째 줄\\n', '5번째 줄\\n']\n"
     ]
    }
   ],
   "source": [
    "with open('new.txt', 'r') as f: # 자동 close 처리된다.\n",
    "    data = f.readlines()\n",
    "    print(data)"
   ]
  },
  {
   "cell_type": "code",
   "execution_count": 1,
   "metadata": {},
   "outputs": [
    {
     "name": "stdout",
     "output_type": "stream",
     "text": [
      "1번째 줄\n",
      "2번째 줄\n",
      "3번째 줄\n",
      "4번째 줄\n",
      "5번째 줄\n",
      "6번째 줄7번째 줄8번째 줄9번째 줄10번째 줄6번째 줄 \n",
      "7번째 줄 \n",
      "8번째 줄 \n",
      "9번째 줄 \n",
      "10번째 줄 \n",
      "6번째 줄 7번째 줄 8번째 줄 9번째 줄 10번째 줄 \n"
     ]
    }
   ],
   "source": [
    "#\n",
    "# a mode : 파일 쓰기 추가\n",
    "with open('new.txt', 'r') as f:\n",
    "    data = f.read()\n",
    "    print(data)"
   ]
  },
  {
   "cell_type": "code",
   "execution_count": 2,
   "metadata": {},
   "outputs": [
    {
     "name": "stdout",
     "output_type": "stream",
     "text": [
      "1번째 줄\n",
      "2번째 줄\n",
      "3번째 줄\n",
      "4번째 줄\n",
      "5번째 줄\n",
      "6번째 줄7번째 줄8번째 줄9번째 줄10번째 줄6번째 줄 \n",
      "7번째 줄 \n",
      "8번째 줄 \n",
      "9번째 줄 \n",
      "10번째 줄 \n",
      "6번째 줄 7번째 줄 8번째 줄 9번째 줄 10번째 줄 6번째 줄 7번째 줄 8번째 줄 9번째 줄 10번째 줄 \n"
     ]
    }
   ],
   "source": [
    "# 파일에 추가 쓰기 : mode => a\n",
    "with open('new.txt', 'a') as f:\n",
    "    for num in range(6,11):\n",
    "        data = f'{num}번째 줄 '\n",
    "        f.write(data)\n",
    "        \n",
    "# 파일을 읽어서 화면 출력\n",
    "with open('new.txt','r') as f:\n",
    "    datas = f.read()\n",
    "    print(datas)"
   ]
  },
  {
   "cell_type": "code",
   "execution_count": null,
   "metadata": {},
   "outputs": [],
   "source": []
  }
 ],
 "metadata": {
  "kernelspec": {
   "display_name": "firstenv",
   "language": "python",
   "name": "python3"
  },
  "language_info": {
   "codemirror_mode": {
    "name": "ipython",
    "version": 3
   },
   "file_extension": ".py",
   "mimetype": "text/x-python",
   "name": "python",
   "nbconvert_exporter": "python",
   "pygments_lexer": "ipython3",
   "version": "3.10.16"
  }
 },
 "nbformat": 4,
 "nbformat_minor": 2
}
