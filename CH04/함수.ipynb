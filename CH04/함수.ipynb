{
 "cells": [
  {
   "cell_type": "markdown",
   "metadata": {},
   "source": [
    "# 2.18 화"
   ]
  },
  {
   "cell_type": "code",
   "execution_count": 6,
   "metadata": {},
   "outputs": [],
   "source": [
    "# 함수 선언 : 실행은 아니다\n",
    "# 이 셀을 실행했지만, 네임스페이스 sum_ 등록\n",
    "def sum_(x,y):\n",
    "    return x + y"
   ]
  },
  {
   "cell_type": "code",
   "execution_count": 7,
   "metadata": {},
   "outputs": [
    {
     "name": "stdout",
     "output_type": "stream",
     "text": [
      "7\n"
     ]
    }
   ],
   "source": [
    "a = 3\n",
    "b = 4\n",
    "c = sum_(a,b)\n",
    "print(c)"
   ]
  },
  {
   "cell_type": "code",
   "execution_count": 4,
   "metadata": {},
   "outputs": [
    {
     "name": "stdout",
     "output_type": "stream",
     "text": [
      "<class 'int'>\n"
     ]
    }
   ],
   "source": [
    "print(type(c))"
   ]
  },
  {
   "cell_type": "code",
   "execution_count": 8,
   "metadata": {},
   "outputs": [],
   "source": [
    "# 함수 유형 1 : 입력 => 처리 => 출력\n",
    "def sum_(a,b): # a, b 입력\n",
    "    result = a + b # 처리\n",
    "    return result  # 반환"
   ]
  },
  {
   "cell_type": "code",
   "execution_count": 9,
   "metadata": {},
   "outputs": [],
   "source": [
    "# 함수 유형 2 : 입력 x => 처리 => 반환\n",
    "def say(): # 입력 x\n",
    "    return 'Hi' # 반환"
   ]
  },
  {
   "cell_type": "code",
   "execution_count": null,
   "metadata": {},
   "outputs": [],
   "source": [
    "# 함수 유형 3 : 입력 => 처리 => 반환없다\n",
    "def sum_(a,b):\n",
    "    print(f'{a}, {b}의 합은 {a+b}이다')"
   ]
  },
  {
   "cell_type": "code",
   "execution_count": null,
   "metadata": {},
   "outputs": [
    {
     "name": "stdout",
     "output_type": "stream",
     "text": [
      "3, 4의 합은 7이다\n",
      "None\n"
     ]
    }
   ],
   "source": [
    "print(sum_(3,4))"
   ]
  },
  {
   "cell_type": "code",
   "execution_count": 15,
   "metadata": {},
   "outputs": [
    {
     "name": "stdout",
     "output_type": "stream",
     "text": [
      "====================\n",
      "번호 입력\n",
      "====================\n"
     ]
    }
   ],
   "source": [
    "# 함수 유형 \n",
    "def menuPrint():\n",
    "    print('='*20)\n",
    "    print('번호 입력')\n",
    "    print('='*20)\n",
    "\n",
    "menuPrint()"
   ]
  },
  {
   "cell_type": "code",
   "execution_count": null,
   "metadata": {},
   "outputs": [],
   "source": [
    "# 여러 개의 입력값을 받는 함수 선언\n",
    "def sum_many(*args):\n",
    "    sum = 0\n",
    "    for arg in args:\n",
    "        sum += arg\n",
    "    return sum"
   ]
  },
  {
   "cell_type": "code",
   "execution_count": 19,
   "metadata": {},
   "outputs": [
    {
     "name": "stdout",
     "output_type": "stream",
     "text": [
      "3\n",
      "13\n",
      "39\n"
     ]
    }
   ],
   "source": [
    "print(sum_many(1,2))\n",
    "print(sum_many(1,2,4,6))\n",
    "print(sum_many(1,2,7,3,6,2,3,6,9))"
   ]
  },
  {
   "cell_type": "code",
   "execution_count": 35,
   "metadata": {},
   "outputs": [],
   "source": [
    "# choice : +, * 지정해서 \n",
    "# args : *가변 인자 처리 함수\n",
    "\n",
    "# def sum_mul(*args, choice):\n",
    "def sum_mul(choice, *args):\n",
    "    if choice == 'sum': # sum => 더하기\n",
    "        result = 0\n",
    "        for num in args:\n",
    "            result += num\n",
    "    elif choice == 'mul': # mul => 곱하기\n",
    "        result = 1\n",
    "        for num in args:\n",
    "            result *= num\n",
    "    else:\n",
    "        print('더하기, 곱하기 된다.')\n",
    "    return result"
   ]
  },
  {
   "cell_type": "code",
   "execution_count": 36,
   "metadata": {},
   "outputs": [
    {
     "data": {
      "text/plain": [
       "10"
      ]
     },
     "execution_count": 36,
     "metadata": {},
     "output_type": "execute_result"
    }
   ],
   "source": [
    "sum_mul('sum', 1,2,3,4)\n",
    "# sum_mul(1,2,3,4, 'sum')"
   ]
  },
  {
   "cell_type": "code",
   "execution_count": 30,
   "metadata": {},
   "outputs": [
    {
     "data": {
      "text/plain": [
       "24"
      ]
     },
     "execution_count": 30,
     "metadata": {},
     "output_type": "execute_result"
    }
   ],
   "source": [
    "sum_mul('mul', 1,2,3,4)"
   ]
  },
  {
   "cell_type": "code",
   "execution_count": 37,
   "metadata": {},
   "outputs": [],
   "source": [
    "# 함수의 결과값은 언제나 하나다\n",
    "# 두 정수 받아서 더하기, 곱한 결과를 반환 함수\n",
    "def sum_and_mul(a,b):\n",
    "    sum_ = a + b\n",
    "    mul_ = a * b\n",
    "    return sum_, mul_"
   ]
  },
  {
   "cell_type": "code",
   "execution_count": 39,
   "metadata": {},
   "outputs": [
    {
     "name": "stdout",
     "output_type": "stream",
     "text": [
      "(7, 12)\n",
      "11 30\n"
     ]
    }
   ],
   "source": [
    "a = sum_and_mul(3,4)\n",
    "print(a)\n",
    "b,c = sum_and_mul(5,6)\n",
    "print(b,c)"
   ]
  },
  {
   "cell_type": "code",
   "execution_count": null,
   "metadata": {},
   "outputs": [],
   "source": [
    "# return : 반환, 종료 두 가지 기능을 가지고 있다.\n",
    "def say_nick(nick):\n",
    "    if nick == '바보':\n",
    "        return '삐짐!'\n",
    "    print(f'나의 별명은 {nick}입니다.')\n",
    "    # return None"
   ]
  },
  {
   "cell_type": "code",
   "execution_count": 50,
   "metadata": {},
   "outputs": [
    {
     "name": "stdout",
     "output_type": "stream",
     "text": [
      "나의 별명은 천사입니다.\n",
      "None\n"
     ]
    }
   ],
   "source": [
    "print(say_nick('천사'))"
   ]
  },
  {
   "cell_type": "code",
   "execution_count": 69,
   "metadata": {},
   "outputs": [],
   "source": [
    "# 아규먼트 3가지 방식\n",
    "# 1. 위치 기반\n",
    "# 2. 키워드 기반\n",
    "# 3. 위치-키워드 기반\n",
    "\n",
    "# 아규먼트 디폴트 처리\n",
    "# 3개의 아규먼트 필수가 된다. => 위치 기반 아규먼트\n",
    "# 위치에 맞추어 값이 대입되는 방식을\n",
    "# say_myself('홍길동', 500, True)\n",
    "\n",
    "def say_myself(name,old,man=True):\n",
    "    print(f'나의 이름은 {name}입니다.')\n",
    "    print(f'나이는 {old}입니다.')\n",
    "    \n",
    "    if man:\n",
    "        print('남자')\n",
    "    else:\n",
    "        print('여자')\n",
    "        \n",
    "    return None"
   ]
  },
  {
   "cell_type": "code",
   "execution_count": 52,
   "metadata": {},
   "outputs": [],
   "source": [
    "# 1. 위치 방식\n",
    "# say_myself('홍길동', 500, True)\n",
    "# def say_myself(name, old, man):\n",
    "\n",
    "# 2. 키워드 방식\n",
    "# say_myself(old = 500, man = True, name = '홍길동')\n",
    "# def say_myself(name, old, man):\n",
    "    \n",
    "# 3. 위치-키워드 방식\n",
    "# say_myself(old = 500, name = '홍길동', True)\n",
    "# def say_myself(name, old, man):"
   ]
  },
  {
   "cell_type": "code",
   "execution_count": 70,
   "metadata": {},
   "outputs": [
    {
     "name": "stdout",
     "output_type": "stream",
     "text": [
      "나의 이름은 홍길동입니다.\n",
      "나이는 500입니다.\n",
      "남자\n",
      "None\n",
      "나의 이름은 홍길순입니다.\n",
      "나이는 500입니다.\n",
      "여자\n",
      "None\n"
     ]
    }
   ],
   "source": [
    "print(say_myself('홍길동', 500))\n",
    "print(say_myself('홍길순', 500, False))"
   ]
  },
  {
   "cell_type": "code",
   "execution_count": null,
   "metadata": {},
   "outputs": [],
   "source": [
    "# 주의사항\n",
    "# say_myself('hong', 500)\n",
    "# / : 위치 기반\n",
    "# * : 키워드 기반\n",
    "\n",
    "def say_myself(name,/, man=True,*, old):\n",
    "    print(f'나의 이름은 {name}입니다.')\n",
    "    print(f'나이는 {old}입니다.')\n",
    "    \n",
    "    if man:\n",
    "        print('남자')\n",
    "    else:\n",
    "        print('여자')\n",
    "        \n",
    "    return None"
   ]
  },
  {
   "cell_type": "code",
   "execution_count": 2,
   "metadata": {},
   "outputs": [
    {
     "name": "stdout",
     "output_type": "stream",
     "text": [
      "None\n",
      "1\n"
     ]
    }
   ],
   "source": [
    "# 함수 변수의 스코프\n",
    "a = 1\n",
    "def vartest(a):\n",
    "    a = a + 1\n",
    "\n",
    "print(vartest(3))\n",
    "print(a)"
   ]
  },
  {
   "cell_type": "code",
   "execution_count": 3,
   "metadata": {},
   "outputs": [
    {
     "name": "stdout",
     "output_type": "stream",
     "text": [
      "2\n"
     ]
    }
   ],
   "source": [
    "a = 1\n",
    "def vartest(a):\n",
    "    a += 1\n",
    "    return a\n",
    "\n",
    "a = vartest(a)\n",
    "print(a)"
   ]
  },
  {
   "cell_type": "code",
   "execution_count": 4,
   "metadata": {},
   "outputs": [
    {
     "name": "stdout",
     "output_type": "stream",
     "text": [
      "2\n"
     ]
    }
   ],
   "source": [
    "a = 1\n",
    "a += 1\n",
    "print(a)"
   ]
  },
  {
   "cell_type": "code",
   "execution_count": 6,
   "metadata": {},
   "outputs": [
    {
     "name": "stdout",
     "output_type": "stream",
     "text": [
      "2\n"
     ]
    }
   ],
   "source": [
    "a = 1 # 외부 변수\n",
    "\n",
    "def vartest():\n",
    "    # 함수 내부에서 외부 변수를 접근\n",
    "    global a\n",
    "    a += 1\n",
    "\n",
    "vartest()\n",
    "print(a)\n"
   ]
  },
  {
   "cell_type": "code",
   "execution_count": null,
   "metadata": {},
   "outputs": [],
   "source": []
  }
 ],
 "metadata": {
  "kernelspec": {
   "display_name": "firstenv",
   "language": "python",
   "name": "python3"
  },
  "language_info": {
   "codemirror_mode": {
    "name": "ipython",
    "version": 3
   },
   "file_extension": ".py",
   "mimetype": "text/x-python",
   "name": "python",
   "nbconvert_exporter": "python",
   "pygments_lexer": "ipython3",
   "version": "3.10.16"
  }
 },
 "nbformat": 4,
 "nbformat_minor": 2
}
