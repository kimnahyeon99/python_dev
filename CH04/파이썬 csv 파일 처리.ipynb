{
 "cells": [
  {
   "cell_type": "markdown",
   "metadata": {},
   "source": [
    "# 2.19 수"
   ]
  },
  {
   "cell_type": "code",
   "execution_count": 1,
   "metadata": {},
   "outputs": [
    {
     "name": "stdout",
     "output_type": "stream",
     "text": [
      "['1', '김정수', '2017-01-19', '25']\n",
      "['2', '박민구', '2017-02-07', '35']\n",
      "['3', '정순미', '2017-03-22', '33']\n"
     ]
    }
   ],
   "source": [
    "# csv 읽기, 쓰기 : csv 내장 모듈\n",
    "import csv # 모듈 임포트\n",
    "\n",
    "with open('data.csv', 'r', encoding='utf-8') as f:\n",
    "    rdr = csv.reader(f)\n",
    "    for line in rdr:\n",
    "        print(line)"
   ]
  },
  {
   "cell_type": "code",
   "execution_count": 3,
   "metadata": {},
   "outputs": [],
   "source": [
    "# csv 파일쓰기\n",
    "import csv\n",
    "\n",
    "with open('output.csv', 'w', encoding='utf-8', newline='')as f:\n",
    "    # 1. csv 파일 형태로 쓰기 오브젝트 생성\n",
    "    wr = csv.writer(f)\n",
    "    \n",
    "    # 2. 쓰기\n",
    "    wr.writerow([1,'김정수', False])\n",
    "    wr.writerow([2,'박상미', True])"
   ]
  },
  {
   "cell_type": "code",
   "execution_count": null,
   "metadata": {},
   "outputs": [],
   "source": []
  }
 ],
 "metadata": {
  "kernelspec": {
   "display_name": "firstenv",
   "language": "python",
   "name": "python3"
  },
  "language_info": {
   "codemirror_mode": {
    "name": "ipython",
    "version": 3
   },
   "file_extension": ".py",
   "mimetype": "text/x-python",
   "name": "python",
   "nbconvert_exporter": "python",
   "pygments_lexer": "ipython3",
   "version": "3.10.16"
  }
 },
 "nbformat": 4,
 "nbformat_minor": 2
}
